{
  "nbformat": 4,
  "nbformat_minor": 0,
  "metadata": {
    "colab": {
      "provenance": [],
      "toc_visible": true,
      "authorship_tag": "ABX9TyOETrlfgNoy/kB26UKjDsD/",
      "include_colab_link": true
    },
    "kernelspec": {
      "name": "python3",
      "display_name": "Python 3"
    },
    "language_info": {
      "name": "python"
    }
  },
  "cells": [
    {
      "cell_type": "markdown",
      "metadata": {
        "id": "view-in-github",
        "colab_type": "text"
      },
      "source": [
        "<a href=\"https://colab.research.google.com/github/biayasuda/exercicios_bootcamp/blob/main/bootcamp_sirius.ipynb\" target=\"_parent\"><img src=\"https://colab.research.google.com/assets/colab-badge.svg\" alt=\"Open In Colab\"/></a>"
      ]
    },
    {
      "cell_type": "markdown",
      "source": [
        "**Aula 00 - Apresentação**"
      ],
      "metadata": {
        "id": "2zrI96bw6v2R"
      }
    },
    {
      "cell_type": "code",
      "source": [
        "!python --version"
      ],
      "metadata": {
        "colab": {
          "base_uri": "https://localhost:8080/"
        },
        "id": "AmGWkrFH7Bbu",
        "outputId": "6e3b0b02-1316-4c3d-a6d2-8e0d6decd080"
      },
      "execution_count": null,
      "outputs": [
        {
          "output_type": "stream",
          "name": "stdout",
          "text": [
            "Python 3.10.12\n"
          ]
        }
      ]
    },
    {
      "cell_type": "code",
      "source": [
        "print ('Bem-vindos ao Bootcamp Sirius')"
      ],
      "metadata": {
        "colab": {
          "base_uri": "https://localhost:8080/"
        },
        "id": "8LkQLk8l7KW7",
        "outputId": "10219adc-9a5c-4f47-d6cd-334370dc0edd"
      },
      "execution_count": null,
      "outputs": [
        {
          "output_type": "stream",
          "name": "stdout",
          "text": [
            "Bem-vindos ao Bootcamp Sirius\n"
          ]
        }
      ]
    },
    {
      "cell_type": "markdown",
      "source": [
        "Declaraçõs válidas\n"
      ],
      "metadata": {
        "id": "hxqpkZELFSQU"
      }
    },
    {
      "cell_type": "code",
      "source": [
        "nota = 10"
      ],
      "metadata": {
        "id": "A4pNMJc8FYLX"
      },
      "execution_count": null,
      "outputs": []
    },
    {
      "cell_type": "code",
      "source": [
        "nota"
      ],
      "metadata": {
        "colab": {
          "base_uri": "https://localhost:8080/"
        },
        "id": "1m5kI46uFbjl",
        "outputId": "1c96c1af-be8c-45d2-9006-9c81e5e80b67"
      },
      "execution_count": null,
      "outputs": [
        {
          "output_type": "execute_result",
          "data": {
            "text/plain": [
              "10"
            ]
          },
          "metadata": {},
          "execution_count": 2
        }
      ]
    },
    {
      "cell_type": "code",
      "source": [
        "_nota = 8"
      ],
      "metadata": {
        "id": "81Rb2rdKGCAY"
      },
      "execution_count": null,
      "outputs": []
    },
    {
      "cell_type": "code",
      "source": [
        "_nota"
      ],
      "metadata": {
        "colab": {
          "base_uri": "https://localhost:8080/"
        },
        "id": "YkTECO2oGKiv",
        "outputId": "9b476a87-bde8-45ae-d5a9-61046c0f097d"
      },
      "execution_count": null,
      "outputs": [
        {
          "output_type": "execute_result",
          "data": {
            "text/plain": [
              "8"
            ]
          },
          "metadata": {},
          "execution_count": 4
        }
      ]
    },
    {
      "cell_type": "code",
      "source": [
        "Nota = 7"
      ],
      "metadata": {
        "id": "iNr2hTrQGMq2"
      },
      "execution_count": null,
      "outputs": []
    },
    {
      "cell_type": "code",
      "source": [
        "Nota"
      ],
      "metadata": {
        "colab": {
          "base_uri": "https://localhost:8080/"
        },
        "id": "BbT12W6MGPBu",
        "outputId": "53180592-9469-42cc-e341-7244ecb86937"
      },
      "execution_count": null,
      "outputs": [
        {
          "output_type": "execute_result",
          "data": {
            "text/plain": [
              "7"
            ]
          },
          "metadata": {},
          "execution_count": 6
        }
      ]
    },
    {
      "cell_type": "markdown",
      "source": [
        "Declarações Inválidas"
      ],
      "metadata": {
        "id": "JLs7GyOVFsl1"
      }
    },
    {
      "cell_type": "code",
      "source": [
        "nota 1 = 10"
      ],
      "metadata": {
        "colab": {
          "base_uri": "https://localhost:8080/",
          "height": 140
        },
        "id": "Q9eYWLm0FvnC",
        "outputId": "8d30cea6-f5c3-48aa-d03b-78d65bb8cebd"
      },
      "execution_count": null,
      "outputs": [
        {
          "output_type": "error",
          "ename": "SyntaxError",
          "evalue": "ignored",
          "traceback": [
            "\u001b[0;36m  File \u001b[0;32m\"<ipython-input-7-b37e87a81a45>\"\u001b[0;36m, line \u001b[0;32m1\u001b[0m\n\u001b[0;31m    nota 1 = 10\u001b[0m\n\u001b[0m         ^\u001b[0m\n\u001b[0;31mSyntaxError\u001b[0m\u001b[0;31m:\u001b[0m invalid syntax\n"
          ]
        }
      ]
    },
    {
      "cell_type": "code",
      "source": [
        "nota um = 20"
      ],
      "metadata": {
        "colab": {
          "base_uri": "https://localhost:8080/",
          "height": 140
        },
        "id": "kHS6bXG5GaX1",
        "outputId": "a8ca2985-949f-47a7-c0ed-e059a4bbff35"
      },
      "execution_count": null,
      "outputs": [
        {
          "output_type": "error",
          "ename": "SyntaxError",
          "evalue": "ignored",
          "traceback": [
            "\u001b[0;36m  File \u001b[0;32m\"<ipython-input-8-6481cf9ba714>\"\u001b[0;36m, line \u001b[0;32m1\u001b[0m\n\u001b[0;31m    nota um = 20\u001b[0m\n\u001b[0m         ^\u001b[0m\n\u001b[0;31mSyntaxError\u001b[0m\u001b[0;31m:\u001b[0m invalid syntax\n"
          ]
        }
      ]
    },
    {
      "cell_type": "code",
      "source": [
        "2nota = 2"
      ],
      "metadata": {
        "colab": {
          "base_uri": "https://localhost:8080/",
          "height": 140
        },
        "id": "iN9SjmAhGZNP",
        "outputId": "5c672a1b-260e-4773-905d-92819b8e218e"
      },
      "execution_count": null,
      "outputs": [
        {
          "output_type": "error",
          "ename": "SyntaxError",
          "evalue": "ignored",
          "traceback": [
            "\u001b[0;36m  File \u001b[0;32m\"<ipython-input-9-ca5cb74b63b1>\"\u001b[0;36m, line \u001b[0;32m1\u001b[0m\n\u001b[0;31m    2nota = 2\u001b[0m\n\u001b[0m    ^\u001b[0m\n\u001b[0;31mSyntaxError\u001b[0m\u001b[0;31m:\u001b[0m invalid decimal literal\n"
          ]
        }
      ]
    },
    {
      "cell_type": "code",
      "source": [
        "nota!as = 8"
      ],
      "metadata": {
        "colab": {
          "base_uri": "https://localhost:8080/",
          "height": 140
        },
        "id": "TJIL0liaGZVq",
        "outputId": "3587669b-8d59-4971-9b46-e6e6e67c8006"
      },
      "execution_count": null,
      "outputs": [
        {
          "output_type": "error",
          "ename": "SyntaxError",
          "evalue": "ignored",
          "traceback": [
            "\u001b[0;36m  File \u001b[0;32m\"<ipython-input-10-ef5a7f423f81>\"\u001b[0;36m, line \u001b[0;32m1\u001b[0m\n\u001b[0;31m    nota!as = 8\u001b[0m\n\u001b[0m        ^\u001b[0m\n\u001b[0;31mSyntaxError\u001b[0m\u001b[0;31m:\u001b[0m invalid syntax\n"
          ]
        }
      ]
    },
    {
      "cell_type": "code",
      "source": [
        "nota(q = 10"
      ],
      "metadata": {
        "colab": {
          "base_uri": "https://localhost:8080/",
          "height": 140
        },
        "id": "xmZzCTB8Gqs7",
        "outputId": "3c4613ee-72da-47f5-9059-f63d6073d02f"
      },
      "execution_count": null,
      "outputs": [
        {
          "output_type": "error",
          "ename": "SyntaxError",
          "evalue": "ignored",
          "traceback": [
            "\u001b[0;36m  File \u001b[0;32m\"<ipython-input-11-7cd85664ede3>\"\u001b[0;36m, line \u001b[0;32m1\u001b[0m\n\u001b[0;31m    nota(q = 10\u001b[0m\n\u001b[0m               ^\u001b[0m\n\u001b[0;31mSyntaxError\u001b[0m\u001b[0;31m:\u001b[0m incomplete input\n"
          ]
        }
      ]
    },
    {
      "cell_type": "markdown",
      "source": [
        "Tipos de Variáveis"
      ],
      "metadata": {
        "id": "MbOvnDrzG2EK"
      }
    },
    {
      "cell_type": "markdown",
      "source": [
        "**Inteiros (int):** Números positivos, negativos ou zero.\n",
        "**Reais (float):** Números decimais, ou seja, números que possuem partes fracionadas.\n",
        "**Booleanas (bool):** Armazenam valores lógicos que podem ser falso ou verdadeiro.\n",
        "**Strings (caracteres):** String é uma cadeia de caracteres que representam textos."
      ],
      "metadata": {
        "id": "RpDYKKo4G5AB"
      }
    },
    {
      "cell_type": "code",
      "source": [
        "nota = 11"
      ],
      "metadata": {
        "id": "xfU91v3NHUm3"
      },
      "execution_count": null,
      "outputs": []
    },
    {
      "cell_type": "code",
      "source": [
        "type(nota)"
      ],
      "metadata": {
        "colab": {
          "base_uri": "https://localhost:8080/"
        },
        "id": "OB0snIQUHhUV",
        "outputId": "2d864117-8514-4deb-bf78-4cef1b5e8bde"
      },
      "execution_count": null,
      "outputs": [
        {
          "output_type": "execute_result",
          "data": {
            "text/plain": [
              "int"
            ]
          },
          "metadata": {},
          "execution_count": 13
        }
      ]
    },
    {
      "cell_type": "code",
      "source": [
        "altura = 1.58"
      ],
      "metadata": {
        "id": "LGwkpgYnHkIh"
      },
      "execution_count": null,
      "outputs": []
    },
    {
      "cell_type": "code",
      "source": [
        "type(altura)"
      ],
      "metadata": {
        "colab": {
          "base_uri": "https://localhost:8080/"
        },
        "id": "lqpMZTAjHoG9",
        "outputId": "5f2b780b-ed63-4c40-928e-145c9b45c777"
      },
      "execution_count": null,
      "outputs": [
        {
          "output_type": "execute_result",
          "data": {
            "text/plain": [
              "float"
            ]
          },
          "metadata": {},
          "execution_count": 18
        }
      ]
    },
    {
      "cell_type": "code",
      "source": [
        "verificacao = True"
      ],
      "metadata": {
        "id": "fSdYIqujIErL"
      },
      "execution_count": null,
      "outputs": []
    },
    {
      "cell_type": "code",
      "source": [
        "type(verificacao)"
      ],
      "metadata": {
        "colab": {
          "base_uri": "https://localhost:8080/"
        },
        "id": "EhhpIyg3IE0j",
        "outputId": "6bd19d56-1e51-4064-9ba3-75cc3ee8a747"
      },
      "execution_count": null,
      "outputs": [
        {
          "output_type": "execute_result",
          "data": {
            "text/plain": [
              "bool"
            ]
          },
          "metadata": {},
          "execution_count": 21
        }
      ]
    },
    {
      "cell_type": "code",
      "source": [
        "mensagem = \"Bem-vindo à Sirius\""
      ],
      "metadata": {
        "id": "WMAgCN22IWC4"
      },
      "execution_count": null,
      "outputs": []
    },
    {
      "cell_type": "code",
      "source": [
        "type(mensagem)"
      ],
      "metadata": {
        "colab": {
          "base_uri": "https://localhost:8080/"
        },
        "id": "OdETpVTLIc8z",
        "outputId": "ff6b094a-ea05-4213-955d-2c1d3a507ed1"
      },
      "execution_count": null,
      "outputs": [
        {
          "output_type": "execute_result",
          "data": {
            "text/plain": [
              "str"
            ]
          },
          "metadata": {},
          "execution_count": 23
        }
      ]
    },
    {
      "cell_type": "markdown",
      "source": [
        "**Aula 02 - Entrada e Saída de Dados**"
      ],
      "metadata": {
        "id": "RKqO1kvIJE7x"
      }
    },
    {
      "cell_type": "code",
      "source": [
        "print(\"Bem-vindo à Sirius\")"
      ],
      "metadata": {
        "colab": {
          "base_uri": "https://localhost:8080/"
        },
        "id": "_6BVgKTjJJIC",
        "outputId": "98d91f08-2173-4644-bf86-0e7b95a622a3"
      },
      "execution_count": null,
      "outputs": [
        {
          "output_type": "stream",
          "name": "stdout",
          "text": [
            "Bem-vindo à Sirius\n"
          ]
        }
      ]
    },
    {
      "cell_type": "code",
      "source": [
        "mensagem = 'Bem-vindo à Sirius'"
      ],
      "metadata": {
        "id": "-57WujOjJTix"
      },
      "execution_count": null,
      "outputs": []
    },
    {
      "cell_type": "code",
      "source": [
        "print(mensagem)"
      ],
      "metadata": {
        "colab": {
          "base_uri": "https://localhost:8080/"
        },
        "id": "aGHRpTeBJc5-",
        "outputId": "c0aa01ca-90ff-48bd-ca56-54d3878d2141"
      },
      "execution_count": null,
      "outputs": [
        {
          "output_type": "stream",
          "name": "stdout",
          "text": [
            "Bem-vindo à Sirius\n"
          ]
        }
      ]
    },
    {
      "cell_type": "code",
      "source": [
        "valor_pi = 3.14159"
      ],
      "metadata": {
        "id": "QUx3NmINKDKH"
      },
      "execution_count": null,
      "outputs": []
    },
    {
      "cell_type": "code",
      "source": [
        "print(f'O valor aproximado de pi é {valor_pi}') #Primeira impressão de dados"
      ],
      "metadata": {
        "colab": {
          "base_uri": "https://localhost:8080/"
        },
        "id": "vRmzGoFZJecT",
        "outputId": "c86fc3ee-cb63-4eed-c83f-0c4fb65da68f"
      },
      "execution_count": null,
      "outputs": [
        {
          "output_type": "stream",
          "name": "stdout",
          "text": [
            "O valor aproximado de pi é 3.14159\n"
          ]
        }
      ]
    },
    {
      "cell_type": "code",
      "source": [
        "print('O valor aproximado de pi é {}' .format(valor_pi)) #segunda impressão de dados"
      ],
      "metadata": {
        "colab": {
          "base_uri": "https://localhost:8080/"
        },
        "id": "8sU5oxBLKIEh",
        "outputId": "c3793dd5-ea45-4d26-e0d6-894ed16de779"
      },
      "execution_count": null,
      "outputs": [
        {
          "output_type": "stream",
          "name": "stdout",
          "text": [
            "O valor aproximado de pi é 3.14159\n"
          ]
        }
      ]
    },
    {
      "cell_type": "code",
      "source": [
        "print(f'O valor aproximado de pi é {valor_pi:.2f}')"
      ],
      "metadata": {
        "id": "-Wg7kvYAKZfl",
        "colab": {
          "base_uri": "https://localhost:8080/"
        },
        "outputId": "ba099009-ea2d-4d4f-f5e1-fefe119ccc88"
      },
      "execution_count": null,
      "outputs": [
        {
          "output_type": "stream",
          "name": "stdout",
          "text": [
            "O valor aproximado de pi é 3.14\n"
          ]
        }
      ]
    },
    {
      "cell_type": "code",
      "source": [
        "nome = 'Beatriz'\n",
        "instituicao = 'logic'"
      ],
      "metadata": {
        "id": "oPQhzEJgS06z"
      },
      "execution_count": null,
      "outputs": []
    },
    {
      "cell_type": "code",
      "source": [
        "print(f'O meu nome é {nome} e trabalho na instituição {instituicao}')"
      ],
      "metadata": {
        "colab": {
          "base_uri": "https://localhost:8080/"
        },
        "id": "WF1LDdmuTQDo",
        "outputId": "562ac336-7300-4414-b085-9012e8221bb9"
      },
      "execution_count": null,
      "outputs": [
        {
          "output_type": "stream",
          "name": "stdout",
          "text": [
            "O meu nome é Beatriz e trabalho na instituição logic\n"
          ]
        }
      ]
    },
    {
      "cell_type": "code",
      "source": [
        "print('O meu nome é {} e trabalho na instituição {}'.format(nome, instituicao))"
      ],
      "metadata": {
        "colab": {
          "base_uri": "https://localhost:8080/"
        },
        "id": "TkgrMs5LTyTp",
        "outputId": "7b528f4a-668f-4a4d-f765-919a0ae3371a"
      },
      "execution_count": null,
      "outputs": [
        {
          "output_type": "stream",
          "name": "stdout",
          "text": [
            "O meu nome é Beatriz e trabalho na instituição logic\n"
          ]
        }
      ]
    },
    {
      "cell_type": "markdown",
      "source": [
        "**Entrada de dados**\n",
        "Um programa, geralmente, é criado para interagir com os usuários para obter dados ou fornecer algum tipo de informação."
      ],
      "metadata": {
        "id": "heCmXY_9UWNC"
      }
    },
    {
      "cell_type": "code",
      "source": [
        "nome= input('Digite o seu nome: ')"
      ],
      "metadata": {
        "colab": {
          "base_uri": "https://localhost:8080/"
        },
        "id": "FCAcjCaNUl-h",
        "outputId": "649970c1-cbc8-4403-b2d2-b0f3455aba7d"
      },
      "execution_count": null,
      "outputs": [
        {
          "name": "stdout",
          "output_type": "stream",
          "text": [
            "Digite o seu nome: Beatriz\n"
          ]
        }
      ]
    },
    {
      "cell_type": "code",
      "source": [
        "print(nome)"
      ],
      "metadata": {
        "colab": {
          "base_uri": "https://localhost:8080/"
        },
        "id": "xoID0GVAVE75",
        "outputId": "f6ca90ae-23a1-434d-fe14-2ca958b93262"
      },
      "execution_count": null,
      "outputs": [
        {
          "output_type": "stream",
          "name": "stdout",
          "text": [
            "Beatriz\n"
          ]
        }
      ]
    },
    {
      "cell_type": "code",
      "source": [
        "numero = int(input('Digite um número: '))"
      ],
      "metadata": {
        "colab": {
          "base_uri": "https://localhost:8080/"
        },
        "id": "Utbu-rtbVjb_",
        "outputId": "9cb767fb-46d2-43ac-ef01-fb1bcdc8b2b9"
      },
      "execution_count": null,
      "outputs": [
        {
          "name": "stdout",
          "output_type": "stream",
          "text": [
            "Digite um número: 3\n"
          ]
        }
      ]
    },
    {
      "cell_type": "code",
      "source": [
        "print(numero)"
      ],
      "metadata": {
        "colab": {
          "base_uri": "https://localhost:8080/"
        },
        "id": "HezedntpVkLh",
        "outputId": "9f898955-5a94-4840-cbf0-4d5dd1e4af8c"
      },
      "execution_count": null,
      "outputs": [
        {
          "output_type": "stream",
          "name": "stdout",
          "text": [
            "3\n"
          ]
        }
      ]
    },
    {
      "cell_type": "code",
      "source": [
        "print(type(numero))"
      ],
      "metadata": {
        "colab": {
          "base_uri": "https://localhost:8080/"
        },
        "id": "PY8TXLS7VkWX",
        "outputId": "e849daae-c67b-431f-ee6f-c4d633c2696d"
      },
      "execution_count": null,
      "outputs": [
        {
          "output_type": "stream",
          "name": "stdout",
          "text": [
            "<class 'int'>\n"
          ]
        }
      ]
    },
    {
      "cell_type": "code",
      "source": [
        "(numero) + 3"
      ],
      "metadata": {
        "colab": {
          "base_uri": "https://localhost:8080/"
        },
        "id": "kKwy0sS-WK4h",
        "outputId": "c3f1dcde-ffe9-4bfb-d44e-3c3c94345a2f"
      },
      "execution_count": null,
      "outputs": [
        {
          "output_type": "execute_result",
          "data": {
            "text/plain": [
              "6"
            ]
          },
          "metadata": {},
          "execution_count": 28
        }
      ]
    },
    {
      "cell_type": "code",
      "source": [
        "altura = float(input('Informe a sua altura: '))"
      ],
      "metadata": {
        "colab": {
          "base_uri": "https://localhost:8080/"
        },
        "id": "b2mBCgOEWhNQ",
        "outputId": "874974fc-f19a-4f9e-9fa5-1cb8a235803d"
      },
      "execution_count": null,
      "outputs": [
        {
          "name": "stdout",
          "output_type": "stream",
          "text": [
            "Informe a sua altura: 1.58\n"
          ]
        }
      ]
    },
    {
      "cell_type": "code",
      "source": [
        "print(type(altura))"
      ],
      "metadata": {
        "id": "ouh8ijkDWvnv",
        "outputId": "0ca70315-0835-4afc-b5ac-c1e8b167be34",
        "colab": {
          "base_uri": "https://localhost:8080/"
        }
      },
      "execution_count": null,
      "outputs": [
        {
          "output_type": "stream",
          "name": "stdout",
          "text": [
            "<class 'float'>\n"
          ]
        }
      ]
    },
    {
      "cell_type": "markdown",
      "source": [
        "**Operadores Aritméticos**"
      ],
      "metadata": {
        "id": "U0Dji7GOekfB"
      }
    },
    {
      "cell_type": "code",
      "source": [
        "#Adição\n",
        "\n",
        "numero_1 = 9\n",
        "numero_2 = 2\n",
        "\n",
        "soma = numero_1 + numero_2\n",
        "\n",
        "print(f'A soma dos números {numero_1} + {numero_2} é igual a (soma)')"
      ],
      "metadata": {
        "colab": {
          "base_uri": "https://localhost:8080/"
        },
        "id": "2Ft7s5SzehDi",
        "outputId": "da0ddcd7-8434-4ffb-94dd-f33ff58501e3"
      },
      "execution_count": null,
      "outputs": [
        {
          "output_type": "stream",
          "name": "stdout",
          "text": [
            "A soma dos números 9 + 2 é igual a (soma)\n"
          ]
        }
      ]
    },
    {
      "cell_type": "code",
      "source": [
        "soma = numero_1 + numero_2\n",
        "\n",
        "numero_1 = int(input('Digite um número: '))\n",
        "numero_2 = int(input('Digite outro número: '))\n",
        "print(f'A soma dos números {numero_1} + {numero_2} é igual a {soma}')\n"
      ],
      "metadata": {
        "colab": {
          "base_uri": "https://localhost:8080/"
        },
        "id": "W_k_Mk7xfCYx",
        "outputId": "a6361271-937f-4554-8f52-d23342e4d040"
      },
      "execution_count": null,
      "outputs": [
        {
          "output_type": "stream",
          "name": "stdout",
          "text": [
            "Digite um número: 2\n",
            "Digite outro número: 3\n",
            "A soma dos números 2 + 3 é igual a 5\n"
          ]
        }
      ]
    },
    {
      "cell_type": "code",
      "source": [
        "#Subtração\n",
        "\n",
        "numero_1 = int(input('Digite um número: '))\n",
        "numero_2 = int(input('Digite outro número: '))\n",
        "\n",
        "subtracao = numero_1 - numero_2\n",
        "\n",
        "print(f'A subtração dos números {numero_1} - {numero_2} é igual a {subtracao}')\n"
      ],
      "metadata": {
        "colab": {
          "base_uri": "https://localhost:8080/"
        },
        "id": "3rYLfAGNf4tq",
        "outputId": "101d2541-d2ab-4e52-9665-f90fc6280fa5"
      },
      "execution_count": null,
      "outputs": [
        {
          "output_type": "stream",
          "name": "stdout",
          "text": [
            "Digite um número: 5\n",
            "Digite outro número: 4\n",
            "A subtração dos números 5 - 4 é igual a 1\n"
          ]
        }
      ]
    },
    {
      "cell_type": "code",
      "source": [
        "#Multiplicação\n",
        "\n",
        "numero_1 = int(input('Digite um número: '))\n",
        "numero_2 = int(input('Digite outro número: '))\n",
        "\n",
        "multiplicacao = numero_1 * numero_2\n",
        "\n",
        "print(f'A multiplicação dos números {numero_1} * {numero_2} é igual a {multiplicacao}')"
      ],
      "metadata": {
        "colab": {
          "base_uri": "https://localhost:8080/"
        },
        "id": "GZGtQdTsgK55",
        "outputId": "c6b35de0-cb99-444f-e9c3-0036c5b1a183"
      },
      "execution_count": null,
      "outputs": [
        {
          "output_type": "stream",
          "name": "stdout",
          "text": [
            "Digite um número: 5\n",
            "Digite outro número: 4\n",
            "A multiplicação dos números 5 * 4 é igual a 20\n"
          ]
        }
      ]
    },
    {
      "cell_type": "code",
      "source": [
        "#Exponenciação\n",
        "\n",
        "exponenciacao = numero_1 ** numero_2\n",
        "\n",
        "print(f'A exponenciação dos números {numero_1} * {numero_2} é igual a {exponenciacao}')"
      ],
      "metadata": {
        "colab": {
          "base_uri": "https://localhost:8080/"
        },
        "id": "liwmhdH2he7T",
        "outputId": "86b79d83-f69f-409d-ed22-0dc2b1fcf45b"
      },
      "execution_count": null,
      "outputs": [
        {
          "output_type": "stream",
          "name": "stdout",
          "text": [
            "A exponenciação dos números 5 * 4 é igual a 625\n"
          ]
        }
      ]
    },
    {
      "cell_type": "code",
      "source": [
        "#Divisão\n",
        "\n",
        "divisao = numero_1 / numero_2\n",
        "\n",
        "print(f'A divisão dos números {numero_1} / {numero_2} é igual a {divisao}')"
      ],
      "metadata": {
        "colab": {
          "base_uri": "https://localhost:8080/"
        },
        "id": "_23z2axshx2y",
        "outputId": "3f94c741-7b45-4955-9e0f-e1f2a504b08c"
      },
      "execution_count": null,
      "outputs": [
        {
          "output_type": "stream",
          "name": "stdout",
          "text": [
            "A divisão dos números 5 / 4 é igual a 1.25\n"
          ]
        }
      ]
    },
    {
      "cell_type": "code",
      "source": [
        "#Divisão inteira\n",
        "\n",
        "divisao_inteira = numero_1 // numero_2\n",
        "\n",
        "print(f'A exponenciação dos números {numero_1} // {numero_2} é igual a {divisao_inteira}')"
      ],
      "metadata": {
        "colab": {
          "base_uri": "https://localhost:8080/"
        },
        "id": "9ZQ5bitxiEha",
        "outputId": "2dbbaadd-c2df-4e9c-844f-61f8071859bf"
      },
      "execution_count": null,
      "outputs": [
        {
          "output_type": "stream",
          "name": "stdout",
          "text": [
            "A exponenciação dos números 5 // 4 é igual a 1\n"
          ]
        }
      ]
    },
    {
      "cell_type": "code",
      "source": [
        "#Resto da Divisão\n",
        "\n",
        "numero_1 = int(input('Digite um número: '))\n",
        "numero_2 = int(input('Digite outro número: '))\n",
        "\n",
        "resto = numero_1 % numero_2\n",
        "\n",
        "print(f'O resto da divisão dos números {numero_1} % {numero_2} é igual a {resto}')\n"
      ],
      "metadata": {
        "colab": {
          "base_uri": "https://localhost:8080/"
        },
        "id": "ekzVIXDZiXmb",
        "outputId": "abbae173-dd50-440c-f3b3-9b7be4569fe3"
      },
      "execution_count": null,
      "outputs": [
        {
          "output_type": "stream",
          "name": "stdout",
          "text": [
            "Digite um número: 10\n",
            "Digite outro número: 2\n",
            "O resto da divisão dos números 10 % 2 é igual a 0\n"
          ]
        }
      ]
    },
    {
      "cell_type": "code",
      "source": [
        "a = 5\n",
        "b = 5"
      ],
      "metadata": {
        "id": "SwNNMV-eiqw9"
      },
      "execution_count": null,
      "outputs": []
    },
    {
      "cell_type": "code",
      "source": [
        "print(a == b)"
      ],
      "metadata": {
        "colab": {
          "base_uri": "https://localhost:8080/"
        },
        "id": "KaHgrf3w7xoo",
        "outputId": "bb487760-afab-4bf8-97c0-17da40cbb04a"
      },
      "execution_count": null,
      "outputs": [
        {
          "output_type": "stream",
          "name": "stdout",
          "text": [
            "True\n"
          ]
        }
      ]
    },
    {
      "cell_type": "code",
      "source": [
        "print(a > b)"
      ],
      "metadata": {
        "colab": {
          "base_uri": "https://localhost:8080/"
        },
        "id": "h6cr-dSD7558",
        "outputId": "f5d19242-5bde-4f9a-c976-c345cd8962be"
      },
      "execution_count": null,
      "outputs": [
        {
          "output_type": "stream",
          "name": "stdout",
          "text": [
            "False\n"
          ]
        }
      ]
    },
    {
      "cell_type": "code",
      "source": [
        "print(a < b)"
      ],
      "metadata": {
        "colab": {
          "base_uri": "https://localhost:8080/"
        },
        "id": "QnG1NcPy8D3B",
        "outputId": "e8eee855-bd2f-480d-ddf2-0cf1eb54fea1"
      },
      "execution_count": null,
      "outputs": [
        {
          "output_type": "stream",
          "name": "stdout",
          "text": [
            "False\n"
          ]
        }
      ]
    },
    {
      "cell_type": "code",
      "source": [
        "print(a <= b)"
      ],
      "metadata": {
        "colab": {
          "base_uri": "https://localhost:8080/"
        },
        "id": "N_Wu7uQV8PVW",
        "outputId": "68a91496-2b55-4ff8-d465-993a46d26db8"
      },
      "execution_count": null,
      "outputs": [
        {
          "output_type": "stream",
          "name": "stdout",
          "text": [
            "True\n"
          ]
        }
      ]
    },
    {
      "cell_type": "code",
      "source": [
        "print(a >= b)"
      ],
      "metadata": {
        "colab": {
          "base_uri": "https://localhost:8080/"
        },
        "id": "5lZWP9wJ8R0n",
        "outputId": "fbb48dd5-ee81-477c-e051-14346325220d"
      },
      "execution_count": null,
      "outputs": [
        {
          "output_type": "stream",
          "name": "stdout",
          "text": [
            "True\n"
          ]
        }
      ]
    },
    {
      "cell_type": "code",
      "source": [
        "print(a != b)"
      ],
      "metadata": {
        "colab": {
          "base_uri": "https://localhost:8080/"
        },
        "id": "fL_0qZq78WVt",
        "outputId": "44a18ea9-0a0d-4e3f-9991-6d5c0e8ffe70"
      },
      "execution_count": null,
      "outputs": [
        {
          "output_type": "stream",
          "name": "stdout",
          "text": [
            "False\n"
          ]
        }
      ]
    },
    {
      "cell_type": "markdown",
      "source": [
        "Aula 04 - Operadores Lógicos e Ordem de Precedência dos Operadores"
      ],
      "metadata": {
        "id": "2-jAJpQn8xUW"
      }
    },
    {
      "cell_type": "code",
      "source": [
        "# not - negação. Será o contrário do que for a afirmação.\n",
        "\n",
        "x = 1\n",
        "\n",
        "print(not x == 1)"
      ],
      "metadata": {
        "colab": {
          "base_uri": "https://localhost:8080/"
        },
        "id": "muSPK3Wh82rF",
        "outputId": "2a9593e9-4b76-45b7-ac68-8d4a6f9e498e"
      },
      "execution_count": null,
      "outputs": [
        {
          "output_type": "stream",
          "name": "stdout",
          "text": [
            "False\n"
          ]
        }
      ]
    },
    {
      "cell_type": "code",
      "source": [
        "# and = retorna verdadeiro se ambas as informações forem verdadeiras.\n",
        "\n",
        "x = 1\n",
        "\n",
        "print ( x > 0 and x < 100)"
      ],
      "metadata": {
        "colab": {
          "base_uri": "https://localhost:8080/"
        },
        "id": "OCqsIwoX8-gM",
        "outputId": "71780f8b-968d-4408-f905-991fda11d142"
      },
      "execution_count": null,
      "outputs": [
        {
          "output_type": "stream",
          "name": "stdout",
          "text": [
            "True\n"
          ]
        }
      ]
    },
    {
      "cell_type": "code",
      "source": [
        "# or = retorna verdadeiro se uma das informações forem verdadeiras.\n",
        "\n",
        "x = 1\n",
        "\n",
        "print( x > 1 or x < 100)"
      ],
      "metadata": {
        "colab": {
          "base_uri": "https://localhost:8080/"
        },
        "id": "aMsr8MFl9RDu",
        "outputId": "26090b46-5f36-4c79-95a1-7d8c307ccae0"
      },
      "execution_count": null,
      "outputs": [
        {
          "output_type": "stream",
          "name": "stdout",
          "text": [
            "True\n"
          ]
        }
      ]
    },
    {
      "cell_type": "markdown",
      "source": [
        "**Ordem de Precedência dos Operadores**\n",
        "\n",
        "\n",
        "*   Parenteses\n",
        "*   Exponenciação\n",
        "*   Multiplicação, divisão, módulo e divisão interna\n",
        "*   Adição e subtração, que possuem a mesma precedência.\n",
        "\n",
        "\n",
        "\n"
      ],
      "metadata": {
        "id": "y8s4iqcq-XMe"
      }
    },
    {
      "cell_type": "code",
      "source": [
        "(3 - 1)+ 4 ** 1 + 5 * 9 % 5"
      ],
      "metadata": {
        "colab": {
          "base_uri": "https://localhost:8080/"
        },
        "id": "qiqXWaeT-qDP",
        "outputId": "439ae5af-3466-4e29-8f13-96a3061f0a9c"
      },
      "execution_count": null,
      "outputs": [
        {
          "output_type": "execute_result",
          "data": {
            "text/plain": [
              "6"
            ]
          },
          "metadata": {},
          "execution_count": 22
        }
      ]
    },
    {
      "cell_type": "markdown",
      "source": [
        "**Aula 05 - Estruturas de Condição - If e Else**"
      ],
      "metadata": {
        "id": "QwwKBE2T-7B9"
      }
    },
    {
      "cell_type": "code",
      "source": [
        "soma = 10 + 2"
      ],
      "metadata": {
        "id": "EfS32Sbu_AHc"
      },
      "execution_count": null,
      "outputs": []
    },
    {
      "cell_type": "code",
      "source": [
        "if soma > 20:\n",
        "  print('a soma é maior que 20')\n",
        "else:\n",
        "  print('a soma não é maior que 20')"
      ],
      "metadata": {
        "colab": {
          "base_uri": "https://localhost:8080/"
        },
        "id": "Wa87F5Fq_KP6",
        "outputId": "a96f9297-00dd-4af0-86be-f87c69ed1e70"
      },
      "execution_count": null,
      "outputs": [
        {
          "output_type": "stream",
          "name": "stdout",
          "text": [
            "a soma não é maior que 20\n"
          ]
        }
      ]
    },
    {
      "cell_type": "code",
      "source": [
        "a = 10\n",
        "b = 10\n",
        "\n",
        "if a > b:\n",
        "  print(f'{a} é maior que {b}')\n",
        "\n",
        "elif a < b:\n",
        "  print(f'{b} é maior que {a}')\n",
        "\n",
        "else:\n",
        "  print(f'{a} é igual a {b}')"
      ],
      "metadata": {
        "id": "GLAztnPn_TvP",
        "colab": {
          "base_uri": "https://localhost:8080/"
        },
        "outputId": "a5b651ef-43b5-40e0-a134-75bdaccf3928"
      },
      "execution_count": null,
      "outputs": [
        {
          "output_type": "stream",
          "name": "stdout",
          "text": [
            "10 é igual a 10\n"
          ]
        }
      ]
    },
    {
      "cell_type": "markdown",
      "source": [
        "**Exercício 1: Escreva um programa que dado uma média informa se o aluno está reprovado, aprovado ou em recuperação**"
      ],
      "metadata": {
        "id": "omy3dV2oA7HN"
      }
    },
    {
      "cell_type": "code",
      "source": [
        "media = 6.5\n",
        "if (media >= 7) and (media <= 10):\n",
        "  print ('Aluno Aprovado')\n",
        "\n",
        "elif (media < 7) and (media >= 5):\n",
        "  print ('Aluno em recuperação')\n",
        "\n",
        "else:\n",
        "  print('Aluno reprovado')"
      ],
      "metadata": {
        "colab": {
          "base_uri": "https://localhost:8080/"
        },
        "id": "KEEHGKiFBFUW",
        "outputId": "c873a69d-3fc3-44d4-ed7e-f7fa30bea285"
      },
      "execution_count": null,
      "outputs": [
        {
          "output_type": "stream",
          "name": "stdout",
          "text": [
            "Aluno em recuperação\n"
          ]
        }
      ]
    },
    {
      "cell_type": "markdown",
      "source": [
        "Escreva um programa que solicita o nome e a idade do usuário. Em seguida, informa se ele é uma criança, pré-adolescente ou jovem.\n",
        "\n",
        "Criança- 0 anos 9 anos\n",
        "Pré-adolescente - 10 anos aos 14 anos\n",
        "Adolescente - 15 aos 19 anos\n",
        "Jovem - dos 10 aos 24 anos"
      ],
      "metadata": {
        "id": "QQZdwSiWCKz6"
      }
    },
    {
      "cell_type": "code",
      "source": [
        "nome = input('Digite o seu nome ')\n",
        "idade = int(input('Digite a sua idade '))\n",
        "\n",
        "if (idade >= 0) and (idade <= 9):\n",
        "  print(f'{nome} é uma criança')\n",
        "elif (idade >= 10) and (idade <= 14):\n",
        "  print(f'{nome} é um pré-adolescente')\n",
        "elif (idade >= 15) and (idade <= 19):\n",
        "  print(f'{nome} é um adolescente')\n",
        "else:\n",
        "  print(f'{nome} é um jovem')"
      ],
      "metadata": {
        "colab": {
          "base_uri": "https://localhost:8080/"
        },
        "id": "3DGCeScYCfFr",
        "outputId": "5f9ddf3b-ec45-4ca0-cc60-d9064e2ad21a"
      },
      "execution_count": null,
      "outputs": [
        {
          "output_type": "stream",
          "name": "stdout",
          "text": [
            "Digite o seu nome Bia\n",
            "Digite a sua idade 10\n",
            "Bia é um pré-adolescente\n"
          ]
        }
      ]
    },
    {
      "cell_type": "markdown",
      "source": [
        "**Aula 06 - Estruturas de Dados - Listas**\n",
        "\n",
        "Uma lista em Python é uma coleção de valores, separados por vírgula e dentro de colchetes [].\n",
        "\n",
        "append(x)\n",
        "extend(iterable)\n",
        "intert(i,x)"
      ],
      "metadata": {
        "id": "77DbF4j1HuFm"
      }
    },
    {
      "cell_type": "code",
      "source": [
        "lista = []\n",
        "\n",
        "print(type(lista))"
      ],
      "metadata": {
        "colab": {
          "base_uri": "https://localhost:8080/"
        },
        "id": "eo6z5hNvIF2E",
        "outputId": "d472fcfe-4735-4048-ad99-a7525d54b0d7"
      },
      "execution_count": null,
      "outputs": [
        {
          "output_type": "stream",
          "name": "stdout",
          "text": [
            "<class 'list'>\n"
          ]
        }
      ]
    },
    {
      "cell_type": "code",
      "source": [
        "lista = list ()\n",
        "\n",
        "print(lista)"
      ],
      "metadata": {
        "colab": {
          "base_uri": "https://localhost:8080/"
        },
        "id": "FsyfzN-jIKfp",
        "outputId": "1f89719a-3a93-40ed-80fd-4aae192f43d1"
      },
      "execution_count": null,
      "outputs": [
        {
          "output_type": "stream",
          "name": "stdout",
          "text": [
            "[]\n"
          ]
        }
      ]
    },
    {
      "cell_type": "code",
      "source": [
        "lista = ['Sirius', 'Bootcamp', 2022, 205.5]\n",
        "\n",
        "print(lista)"
      ],
      "metadata": {
        "colab": {
          "base_uri": "https://localhost:8080/"
        },
        "id": "kD4iQPtQIWOY",
        "outputId": "c3ac8b5b-848d-4f0d-ae0a-3b462f46af9b"
      },
      "execution_count": null,
      "outputs": [
        {
          "output_type": "stream",
          "name": "stdout",
          "text": [
            "['Sirius', 'Bootcamp', 2022, 205.5]\n"
          ]
        }
      ]
    },
    {
      "cell_type": "code",
      "source": [
        "print(len(lista)) #len serve para verificar o tamanho da lista"
      ],
      "metadata": {
        "colab": {
          "base_uri": "https://localhost:8080/"
        },
        "id": "WFAoMenoIfr5",
        "outputId": "028455f1-94d3-42fe-96a3-1a72e39a1ec8"
      },
      "execution_count": null,
      "outputs": [
        {
          "output_type": "stream",
          "name": "stdout",
          "text": [
            "4\n"
          ]
        }
      ]
    },
    {
      "cell_type": "code",
      "source": [
        "         # 0          1       2       3\n",
        "         # -4         -3      -2       -1\n",
        "frutas = ['Maça', 'Banana', 'Uva', 'Abacaxi']"
      ],
      "metadata": {
        "id": "LxX6IlXqIiK6"
      },
      "execution_count": null,
      "outputs": []
    },
    {
      "cell_type": "code",
      "source": [
        "print(frutas[1])"
      ],
      "metadata": {
        "colab": {
          "base_uri": "https://localhost:8080/"
        },
        "id": "IrRptPsVIwND",
        "outputId": "d690494b-8247-4c61-9ab0-0ff56abac95e"
      },
      "execution_count": null,
      "outputs": [
        {
          "output_type": "stream",
          "name": "stdout",
          "text": [
            "Banana\n"
          ]
        }
      ]
    },
    {
      "cell_type": "code",
      "source": [
        "print(frutas[-1])"
      ],
      "metadata": {
        "colab": {
          "base_uri": "https://localhost:8080/"
        },
        "id": "kxPWW72zI5Ox",
        "outputId": "2f90c937-36f2-47b5-9139-500b5786971d"
      },
      "execution_count": null,
      "outputs": [
        {
          "output_type": "stream",
          "name": "stdout",
          "text": [
            "Abacaxi\n"
          ]
        }
      ]
    },
    {
      "cell_type": "code",
      "source": [
        "print(frutas[3])"
      ],
      "metadata": {
        "colab": {
          "base_uri": "https://localhost:8080/"
        },
        "id": "ewSZ8DhQJOV0",
        "outputId": "2ac0adc6-98f7-46e4-8c51-90478de81dd9"
      },
      "execution_count": null,
      "outputs": [
        {
          "output_type": "stream",
          "name": "stdout",
          "text": [
            "Abacaxi\n"
          ]
        }
      ]
    },
    {
      "cell_type": "code",
      "source": [
        "print(frutas[len(frutas)-1])"
      ],
      "metadata": {
        "colab": {
          "base_uri": "https://localhost:8080/"
        },
        "id": "3Jpi-d7oJVfd",
        "outputId": "5f1b15a5-cadf-43c8-e71b-29ddd4a6dfd0"
      },
      "execution_count": null,
      "outputs": [
        {
          "output_type": "stream",
          "name": "stdout",
          "text": [
            "Abacaxi\n"
          ]
        }
      ]
    },
    {
      "cell_type": "code",
      "source": [
        "frutas[2] = 'Melão'"
      ],
      "metadata": {
        "id": "urlKAM9PJY1A"
      },
      "execution_count": null,
      "outputs": []
    },
    {
      "cell_type": "code",
      "source": [
        "print(frutas)"
      ],
      "metadata": {
        "colab": {
          "base_uri": "https://localhost:8080/"
        },
        "id": "PmcOmxbYJzK5",
        "outputId": "55c2553e-c8a4-42fc-b011-a6557981c410"
      },
      "execution_count": null,
      "outputs": [
        {
          "output_type": "stream",
          "name": "stdout",
          "text": [
            "['Maça', 'Banana', 'Melão', 'Abacaxi']\n"
          ]
        }
      ]
    },
    {
      "cell_type": "code",
      "source": [
        "# lista[inicio:fim:passo]"
      ],
      "metadata": {
        "id": "i5SZPIVvJ0uQ"
      },
      "execution_count": null,
      "outputs": []
    },
    {
      "cell_type": "code",
      "source": [
        "lista = [2,1,3,5,6,9,8,7, 'Sirius', 'Bootcamp']"
      ],
      "metadata": {
        "id": "-audCwGPKAmb"
      },
      "execution_count": null,
      "outputs": []
    },
    {
      "cell_type": "code",
      "source": [
        "print(lista[2:6])"
      ],
      "metadata": {
        "colab": {
          "base_uri": "https://localhost:8080/"
        },
        "id": "XcX-vYjJKUTr",
        "outputId": "eaa66b2d-2d64-4ef7-85a0-cf0147126351"
      },
      "execution_count": null,
      "outputs": [
        {
          "output_type": "stream",
          "name": "stdout",
          "text": [
            "[3, 5, 6, 9]\n"
          ]
        }
      ]
    },
    {
      "cell_type": "code",
      "source": [
        "print(lista[:5])"
      ],
      "metadata": {
        "colab": {
          "base_uri": "https://localhost:8080/"
        },
        "id": "LMkj5Hu-KWlo",
        "outputId": "f1a7f578-7d70-477c-de36-5b43e3d4b939"
      },
      "execution_count": null,
      "outputs": [
        {
          "output_type": "stream",
          "name": "stdout",
          "text": [
            "[2, 1, 3, 5, 6]\n"
          ]
        }
      ]
    },
    {
      "cell_type": "code",
      "source": [
        "print(lista)"
      ],
      "metadata": {
        "colab": {
          "base_uri": "https://localhost:8080/"
        },
        "id": "oaRgvPipKnF7",
        "outputId": "7d0deded-cf0e-4cd8-a931-0efcc82cc789"
      },
      "execution_count": null,
      "outputs": [
        {
          "output_type": "stream",
          "name": "stdout",
          "text": [
            "[2, 1, 3, 5, 6, 9, 8, 7, 'Sirius', 'Bootcamp']\n"
          ]
        }
      ]
    },
    {
      "cell_type": "code",
      "source": [
        "lista.append(10) #append acrescenta valor no final da lista"
      ],
      "metadata": {
        "id": "01zPAAJxLKdB"
      },
      "execution_count": null,
      "outputs": []
    },
    {
      "cell_type": "code",
      "source": [
        "print(lista)"
      ],
      "metadata": {
        "colab": {
          "base_uri": "https://localhost:8080/"
        },
        "id": "vgsRGM3QLN5K",
        "outputId": "669b31c1-a29e-47ac-de18-af3575f1ea71"
      },
      "execution_count": null,
      "outputs": [
        {
          "output_type": "stream",
          "name": "stdout",
          "text": [
            "[2, 1, 3, 5, 6, 9, 8, 7, 'Sirius', 'Bootcamp', 10]\n"
          ]
        }
      ]
    },
    {
      "cell_type": "code",
      "source": [
        "print(lista.index('Sirius')) #Mostra a posição do elemento dentro da lista"
      ],
      "metadata": {
        "colab": {
          "base_uri": "https://localhost:8080/"
        },
        "id": "0lSxb7ZNLPV3",
        "outputId": "5cb48d49-f4bd-4f48-9b80-4fde977f2720"
      },
      "execution_count": null,
      "outputs": [
        {
          "output_type": "stream",
          "name": "stdout",
          "text": [
            "8\n"
          ]
        }
      ]
    },
    {
      "cell_type": "code",
      "source": [
        "lista.insert(1,5) #insere valor na posição específica"
      ],
      "metadata": {
        "id": "RXZM2HlaLb1d"
      },
      "execution_count": null,
      "outputs": []
    },
    {
      "cell_type": "code",
      "source": [
        "print(lista)"
      ],
      "metadata": {
        "colab": {
          "base_uri": "https://localhost:8080/"
        },
        "id": "Us4U9yrVLq4x",
        "outputId": "97807d9c-faa3-42ec-bf84-ceb314e405e4"
      },
      "execution_count": null,
      "outputs": [
        {
          "output_type": "stream",
          "name": "stdout",
          "text": [
            "[2, 5, 1, 3, 5, 6, 9, 8, 7, 'Sirius', 'Bootcamp', 10]\n"
          ]
        }
      ]
    },
    {
      "cell_type": "code",
      "source": [
        "lista.pop() #exclui o último valor da lista"
      ],
      "metadata": {
        "colab": {
          "base_uri": "https://localhost:8080/"
        },
        "id": "JecQow8XLsNR",
        "outputId": "7c67cf29-0be5-4944-eadc-e5e03a72fd41"
      },
      "execution_count": null,
      "outputs": [
        {
          "output_type": "execute_result",
          "data": {
            "text/plain": [
              "10"
            ]
          },
          "metadata": {},
          "execution_count": 38
        }
      ]
    },
    {
      "cell_type": "code",
      "source": [
        "print(lista)"
      ],
      "metadata": {
        "colab": {
          "base_uri": "https://localhost:8080/"
        },
        "id": "jSKPoaNfLz5_",
        "outputId": "aea5367d-2332-4dc7-bd3c-0becb6df8b03"
      },
      "execution_count": null,
      "outputs": [
        {
          "output_type": "stream",
          "name": "stdout",
          "text": [
            "[2, 5, 1, 3, 5, 6, 9, 8, 7, 'Sirius', 'Bootcamp']\n"
          ]
        }
      ]
    },
    {
      "cell_type": "code",
      "source": [
        "lista.pop(2) #remove valor que está no índice 2"
      ],
      "metadata": {
        "colab": {
          "base_uri": "https://localhost:8080/"
        },
        "id": "tk7t5zxFL2Hf",
        "outputId": "b1173558-7b31-4a49-bb39-2eebd5207278"
      },
      "execution_count": null,
      "outputs": [
        {
          "output_type": "execute_result",
          "data": {
            "text/plain": [
              "1"
            ]
          },
          "metadata": {},
          "execution_count": 40
        }
      ]
    },
    {
      "cell_type": "code",
      "source": [
        "print(lista)"
      ],
      "metadata": {
        "colab": {
          "base_uri": "https://localhost:8080/"
        },
        "id": "g777u5TLL8iZ",
        "outputId": "7cbae79c-37e8-477f-bfc3-2b3266fbbcde"
      },
      "execution_count": null,
      "outputs": [
        {
          "output_type": "stream",
          "name": "stdout",
          "text": [
            "[2, 5, 3, 5, 6, 9, 8, 7, 'Sirius', 'Bootcamp']\n"
          ]
        }
      ]
    },
    {
      "cell_type": "code",
      "source": [
        "lista.remove('Sirius') #Remove elemento específico"
      ],
      "metadata": {
        "id": "XCXuV3WZL-Cg"
      },
      "execution_count": null,
      "outputs": []
    },
    {
      "cell_type": "code",
      "source": [
        "print(lista)"
      ],
      "metadata": {
        "colab": {
          "base_uri": "https://localhost:8080/"
        },
        "id": "bvz2Z9jqMKKb",
        "outputId": "6bd8dac5-28d3-445d-a6b7-86c67d3ef799"
      },
      "execution_count": null,
      "outputs": [
        {
          "output_type": "stream",
          "name": "stdout",
          "text": [
            "[2, 5, 3, 5, 6, 9, 8, 7, 'Bootcamp']\n"
          ]
        }
      ]
    },
    {
      "cell_type": "code",
      "source": [
        "lista.remove('Bootcamp')"
      ],
      "metadata": {
        "id": "DNX31jNNMLPZ"
      },
      "execution_count": null,
      "outputs": []
    },
    {
      "cell_type": "code",
      "source": [
        "print(lista)"
      ],
      "metadata": {
        "colab": {
          "base_uri": "https://localhost:8080/"
        },
        "id": "BSknzLP0MTWU",
        "outputId": "9a41233c-e300-42fb-c2fe-d958de1f5ddd"
      },
      "execution_count": null,
      "outputs": [
        {
          "output_type": "stream",
          "name": "stdout",
          "text": [
            "[2, 5, 3, 5, 6, 9, 8, 7]\n"
          ]
        }
      ]
    },
    {
      "cell_type": "code",
      "source": [
        "lista.sort() #Ordem crescente\n",
        "\n",
        "print(lista)"
      ],
      "metadata": {
        "colab": {
          "base_uri": "https://localhost:8080/"
        },
        "id": "v2pFtWRWMURM",
        "outputId": "59fe7e87-ca87-4e82-da4e-ab6dd376be8d"
      },
      "execution_count": null,
      "outputs": [
        {
          "output_type": "stream",
          "name": "stdout",
          "text": [
            "[2, 3, 5, 5, 6, 7, 8, 9]\n"
          ]
        }
      ]
    },
    {
      "cell_type": "code",
      "source": [
        "lista.sort(reverse=True) #Ordem decrescente\n",
        "\n",
        "print(lista)"
      ],
      "metadata": {
        "colab": {
          "base_uri": "https://localhost:8080/"
        },
        "id": "0DtE9kgOMaHU",
        "outputId": "8b95d081-dac4-4d06-ba14-066328277e6a"
      },
      "execution_count": null,
      "outputs": [
        {
          "output_type": "stream",
          "name": "stdout",
          "text": [
            "[9, 8, 7, 6, 5, 5, 3, 2]\n"
          ]
        }
      ]
    },
    {
      "cell_type": "code",
      "source": [
        "print(lista.count(5))"
      ],
      "metadata": {
        "colab": {
          "base_uri": "https://localhost:8080/"
        },
        "id": "3fWNppcPMgSg",
        "outputId": "6aee5c7d-087c-4e20-94fd-0a40dd03ea9e"
      },
      "execution_count": null,
      "outputs": [
        {
          "output_type": "stream",
          "name": "stdout",
          "text": [
            "2\n"
          ]
        }
      ]
    },
    {
      "cell_type": "code",
      "source": [
        "lista.extend([45,46,47]) #serve para inserir outros valores na lista\n",
        "print(lista)"
      ],
      "metadata": {
        "colab": {
          "base_uri": "https://localhost:8080/"
        },
        "id": "x74j5lu6MlAV",
        "outputId": "369ed533-ea98-4042-f52f-5a61079a50a0"
      },
      "execution_count": null,
      "outputs": [
        {
          "output_type": "stream",
          "name": "stdout",
          "text": [
            "[9, 8, 7, 6, 5, 5, 3, 2, 45, 46, 47]\n"
          ]
        }
      ]
    },
    {
      "cell_type": "code",
      "source": [
        "lista.clear() #serve para limpar a lista\n",
        "print(lista)"
      ],
      "metadata": {
        "colab": {
          "base_uri": "https://localhost:8080/"
        },
        "id": "EtCVFvK7MylC",
        "outputId": "54fde559-d3d2-41f3-ad88-a39c7652788f"
      },
      "execution_count": null,
      "outputs": [
        {
          "output_type": "stream",
          "name": "stdout",
          "text": [
            "[]\n"
          ]
        }
      ]
    },
    {
      "cell_type": "code",
      "source": [
        "del lista #remove lista"
      ],
      "metadata": {
        "id": "0QuYI4rfM4C2"
      },
      "execution_count": null,
      "outputs": []
    },
    {
      "cell_type": "code",
      "source": [
        "print(lista)"
      ],
      "metadata": {
        "colab": {
          "base_uri": "https://localhost:8080/",
          "height": 176
        },
        "id": "s5j-T_tyM6y1",
        "outputId": "864724d5-b6f0-4933-935d-6f6270918ddf"
      },
      "execution_count": null,
      "outputs": [
        {
          "output_type": "error",
          "ename": "NameError",
          "evalue": "ignored",
          "traceback": [
            "\u001b[0;31m---------------------------------------------------------------------------\u001b[0m",
            "\u001b[0;31mNameError\u001b[0m                                 Traceback (most recent call last)",
            "\u001b[0;32m<ipython-input-52-232fa446ace9>\u001b[0m in \u001b[0;36m<cell line: 1>\u001b[0;34m()\u001b[0m\n\u001b[0;32m----> 1\u001b[0;31m \u001b[0mprint\u001b[0m\u001b[0;34m(\u001b[0m\u001b[0mlista\u001b[0m\u001b[0;34m)\u001b[0m\u001b[0;34m\u001b[0m\u001b[0;34m\u001b[0m\u001b[0m\n\u001b[0m",
            "\u001b[0;31mNameError\u001b[0m: name 'lista' is not defined"
          ]
        }
      ]
    },
    {
      "cell_type": "code",
      "source": [],
      "metadata": {
        "id": "jOUOf54zM73C"
      },
      "execution_count": null,
      "outputs": []
    },
    {
      "cell_type": "markdown",
      "source": [
        "Aula 07 - Estrutura de dados - Tuplas\n",
        "\n",
        "Tupla é um tipo de estrutura de dados utilizada no Python que funciona de modo semelhante a listra, entretanto, com a característica principal de ser imutável.\n",
        "\n",
        "Uma tupla consiste em uma sequencia de valores separados por vírgula."
      ],
      "metadata": {
        "id": "0yEzTmRGNPow"
      }
    },
    {
      "cell_type": "code",
      "source": [
        "tupla = ()\n",
        "\n",
        "print(type(tupla))"
      ],
      "metadata": {
        "colab": {
          "base_uri": "https://localhost:8080/"
        },
        "id": "7lPZiAQiNb45",
        "outputId": "3fd54d99-0a23-420c-ea13-ff3375883467"
      },
      "execution_count": null,
      "outputs": [
        {
          "output_type": "stream",
          "name": "stdout",
          "text": [
            "<class 'tuple'>\n"
          ]
        }
      ]
    },
    {
      "cell_type": "code",
      "source": [
        "tupla = tuple()\n",
        "\n",
        "print(type(tupla))"
      ],
      "metadata": {
        "colab": {
          "base_uri": "https://localhost:8080/"
        },
        "id": "LPyrtTG-NfiS",
        "outputId": "666379bf-746f-4b41-eb15-172f47d53cb1"
      },
      "execution_count": null,
      "outputs": [
        {
          "output_type": "stream",
          "name": "stdout",
          "text": [
            "<class 'tuple'>\n"
          ]
        }
      ]
    },
    {
      "cell_type": "code",
      "source": [
        "tupla = ('Sirius', 'Bootcamp')\n",
        "\n",
        "print(tupla)"
      ],
      "metadata": {
        "colab": {
          "base_uri": "https://localhost:8080/"
        },
        "id": "jBpkQ3hHNhxi",
        "outputId": "cfb103a7-d2c5-4a30-942a-75f2b21b9b7e"
      },
      "execution_count": null,
      "outputs": [
        {
          "output_type": "stream",
          "name": "stdout",
          "text": [
            "('Sirius', 'Bootcamp')\n"
          ]
        }
      ]
    },
    {
      "cell_type": "code",
      "source": [
        "tupla = 'Sirius', 'Bootcamp', 1\n",
        "\n",
        "(print(type(tupla)))"
      ],
      "metadata": {
        "colab": {
          "base_uri": "https://localhost:8080/"
        },
        "id": "OsmE4aa8OHq-",
        "outputId": "4329cba6-f4d9-4536-d9b7-adf7333834a8"
      },
      "execution_count": null,
      "outputs": [
        {
          "output_type": "stream",
          "name": "stdout",
          "text": [
            "<class 'tuple'>\n"
          ]
        }
      ]
    },
    {
      "cell_type": "markdown",
      "source": [
        "Acessando elementos de uma tupla"
      ],
      "metadata": {
        "id": "4pidvTD4OZpo"
      }
    },
    {
      "cell_type": "code",
      "source": [
        "tupla = ('João', 18)"
      ],
      "metadata": {
        "id": "rji46UkXOheu"
      },
      "execution_count": null,
      "outputs": []
    },
    {
      "cell_type": "code",
      "source": [
        "print(tupla[0], tupla[1])"
      ],
      "metadata": {
        "colab": {
          "base_uri": "https://localhost:8080/"
        },
        "id": "p3D5ApvUOOI2",
        "outputId": "f2a95190-ff24-45a9-fb22-296a9a1aab80"
      },
      "execution_count": null,
      "outputs": [
        {
          "output_type": "stream",
          "name": "stdout",
          "text": [
            "João 18\n"
          ]
        }
      ]
    },
    {
      "cell_type": "code",
      "source": [
        "numeros = (1,4,5,5,6,7,4,9,2)"
      ],
      "metadata": {
        "id": "oyaCiIhQOl2r"
      },
      "execution_count": null,
      "outputs": []
    },
    {
      "cell_type": "code",
      "source": [
        "numeros.count(4)"
      ],
      "metadata": {
        "colab": {
          "base_uri": "https://localhost:8080/"
        },
        "id": "fOZPF8kxO8KO",
        "outputId": "669b0a1d-e89c-4229-f8ca-1b9a065684a0"
      },
      "execution_count": null,
      "outputs": [
        {
          "output_type": "execute_result",
          "data": {
            "text/plain": [
              "2"
            ]
          },
          "metadata": {},
          "execution_count": 69
        }
      ]
    },
    {
      "cell_type": "code",
      "source": [
        "numeros.index(2)"
      ],
      "metadata": {
        "colab": {
          "base_uri": "https://localhost:8080/"
        },
        "id": "8_b-tTLdPC7d",
        "outputId": "ac64efc6-5150-4d3d-c8dd-42b5d1b44c37"
      },
      "execution_count": null,
      "outputs": [
        {
          "output_type": "execute_result",
          "data": {
            "text/plain": [
              "8"
            ]
          },
          "metadata": {},
          "execution_count": 70
        }
      ]
    },
    {
      "cell_type": "code",
      "source": [
        "tuplas = ([1,2,3], ['a','b','c'])\n",
        "print(tuplas)"
      ],
      "metadata": {
        "colab": {
          "base_uri": "https://localhost:8080/"
        },
        "id": "t9SFb4OlPKti",
        "outputId": "c8daa855-e7f7-4d1c-d7d9-fb4574c4cea5"
      },
      "execution_count": null,
      "outputs": [
        {
          "output_type": "stream",
          "name": "stdout",
          "text": [
            "([1, 2, 3], ['a', 'b', 'c'])\n"
          ]
        }
      ]
    },
    {
      "cell_type": "code",
      "source": [
        "lista = [('João',18), ('Carlos',20)]\n",
        "print(lista)"
      ],
      "metadata": {
        "colab": {
          "base_uri": "https://localhost:8080/"
        },
        "id": "DKX0ptcZPVMa",
        "outputId": "4f30b91d-f510-4d7e-e099-f7a3b703a8e9"
      },
      "execution_count": null,
      "outputs": [
        {
          "output_type": "stream",
          "name": "stdout",
          "text": [
            "[('João', 18), ('Carlos', 20)]\n"
          ]
        }
      ]
    },
    {
      "cell_type": "markdown",
      "source": [
        "**Aula 08 - Estruturas de Dados - Dicionários**\n",
        "\n",
        "Métodos dos dicionários:\n",
        "\n",
        "\n",
        "\n"
      ],
      "metadata": {
        "id": "qWZutJQoSoxH"
      }
    },
    {
      "cell_type": "code",
      "source": [
        "dicionario = {}\n",
        "\n",
        "print(type(dicionario))"
      ],
      "metadata": {
        "id": "TAYamhBwPex4",
        "colab": {
          "base_uri": "https://localhost:8080/"
        },
        "outputId": "31ea7c32-d0ca-4818-ae16-22d1b56521e0"
      },
      "execution_count": null,
      "outputs": [
        {
          "output_type": "stream",
          "name": "stdout",
          "text": [
            "<class 'type'>\n",
            "<class 'dict'>\n"
          ]
        }
      ]
    },
    {
      "cell_type": "code",
      "source": [
        "dicionario = dict(primeiro=1, segundo=2)\n",
        "\n",
        "print(dicionario)"
      ],
      "metadata": {
        "colab": {
          "base_uri": "https://localhost:8080/"
        },
        "id": "LAYT--QqSoFY",
        "outputId": "0a4b5430-a110-42af-b581-d1ce6b9da714"
      },
      "execution_count": null,
      "outputs": [
        {
          "output_type": "stream",
          "name": "stdout",
          "text": [
            "{'primeiro': 1, 'segundo': 2}\n"
          ]
        }
      ]
    },
    {
      "cell_type": "code",
      "source": [
        "dicionario = {1: 'Carlos', 2:'Ana', 3:'Fabio'}\n",
        "\n",
        "print(len(dicionario)) #len mostra a quantidade de elementos do dicionário"
      ],
      "metadata": {
        "colab": {
          "base_uri": "https://localhost:8080/"
        },
        "id": "mj6sB9jvUBs_",
        "outputId": "05141235-bb97-42f0-9b81-aa151ded7eb1"
      },
      "execution_count": null,
      "outputs": [
        {
          "output_type": "stream",
          "name": "stdout",
          "text": [
            "3\n"
          ]
        }
      ]
    },
    {
      "cell_type": "code",
      "source": [
        "pessoa = {'nome': 'Ana', 'idade':'18', 'altura':1.67}"
      ],
      "metadata": {
        "id": "qtEtkN8-TYoi"
      },
      "execution_count": null,
      "outputs": []
    },
    {
      "cell_type": "code",
      "source": [
        "print(pessoa['idade'])"
      ],
      "metadata": {
        "colab": {
          "base_uri": "https://localhost:8080/"
        },
        "id": "KcJENUyVUtqM",
        "outputId": "3a96b0b2-9dfc-46a6-bc7b-e850f9b7e536"
      },
      "execution_count": null,
      "outputs": [
        {
          "output_type": "stream",
          "name": "stdout",
          "text": [
            "18\n"
          ]
        }
      ]
    },
    {
      "cell_type": "code",
      "source": [
        "#get () serve quando queremos obter o valor correspondente da chave\n",
        "\n",
        "print(pessoa.get('nome'))"
      ],
      "metadata": {
        "colab": {
          "base_uri": "https://localhost:8080/"
        },
        "id": "9GMG5vSVU2mW",
        "outputId": "1c016b27-cc55-458a-fce6-080057f8253f"
      },
      "execution_count": null,
      "outputs": [
        {
          "output_type": "stream",
          "name": "stdout",
          "text": [
            "Ana\n"
          ]
        }
      ]
    },
    {
      "cell_type": "code",
      "source": [
        "# keys() : usada quando quereremos obter todas as chaves do nosso dicionário\n",
        "list(pessoa)"
      ],
      "metadata": {
        "colab": {
          "base_uri": "https://localhost:8080/"
        },
        "id": "Xv8-ej0BVE4c",
        "outputId": "10b43874-c889-4eb6-ce93-dee4cbb92e30"
      },
      "execution_count": null,
      "outputs": [
        {
          "output_type": "execute_result",
          "data": {
            "text/plain": [
              "['nome', 'idade', 'altura']"
            ]
          },
          "metadata": {},
          "execution_count": 18
        }
      ]
    },
    {
      "cell_type": "code",
      "source": [
        "# values()\n",
        "\n",
        "print(pessoa.values())"
      ],
      "metadata": {
        "colab": {
          "base_uri": "https://localhost:8080/"
        },
        "id": "qfWKvd8wVMPs",
        "outputId": "d7be40b9-45d1-43d6-bf49-4dba2c2509bf"
      },
      "execution_count": null,
      "outputs": [
        {
          "output_type": "stream",
          "name": "stdout",
          "text": [
            "dict_values(['Ana', '18', 1.67])\n"
          ]
        }
      ]
    },
    {
      "cell_type": "code",
      "source": [
        "#pop() : Serve para excluir a chave especificada\n",
        "\n",
        "pessoa.pop('idade')\n"
      ],
      "metadata": {
        "colab": {
          "base_uri": "https://localhost:8080/",
          "height": 35
        },
        "id": "AK6s_8UVVTLV",
        "outputId": "d3a06ddf-e75d-471a-9958-282dad11465e"
      },
      "execution_count": null,
      "outputs": [
        {
          "output_type": "execute_result",
          "data": {
            "text/plain": [
              "'18'"
            ],
            "application/vnd.google.colaboratory.intrinsic+json": {
              "type": "string"
            }
          },
          "metadata": {},
          "execution_count": 21
        }
      ]
    },
    {
      "cell_type": "code",
      "source": [
        "print(pessoa)"
      ],
      "metadata": {
        "colab": {
          "base_uri": "https://localhost:8080/"
        },
        "id": "sJvwBfINVg5n",
        "outputId": "7bb64d73-1811-43f1-b6e9-73b9dce199cb"
      },
      "execution_count": null,
      "outputs": [
        {
          "output_type": "stream",
          "name": "stdout",
          "text": [
            "{'nome': 'Ana', 'altura': 1.67}\n"
          ]
        }
      ]
    },
    {
      "cell_type": "code",
      "source": [
        "#del\n",
        "del pessoa['nome']"
      ],
      "metadata": {
        "id": "m29oHjoTVkDq"
      },
      "execution_count": null,
      "outputs": []
    },
    {
      "cell_type": "code",
      "source": [
        "print(pessoa)"
      ],
      "metadata": {
        "colab": {
          "base_uri": "https://localhost:8080/",
          "height": 175
        },
        "id": "Wwdi7J8MVqTb",
        "outputId": "6f373e30-f928-42c2-b162-20eb44cc5212"
      },
      "execution_count": null,
      "outputs": [
        {
          "output_type": "error",
          "ename": "NameError",
          "evalue": "ignored",
          "traceback": [
            "\u001b[0;31m---------------------------------------------------------------------------\u001b[0m",
            "\u001b[0;31mNameError\u001b[0m                                 Traceback (most recent call last)",
            "\u001b[0;32m<ipython-input-7-0886fc1a2e0c>\u001b[0m in \u001b[0;36m<cell line: 1>\u001b[0;34m()\u001b[0m\n\u001b[0;32m----> 1\u001b[0;31m \u001b[0mprint\u001b[0m\u001b[0;34m(\u001b[0m\u001b[0mpessoa\u001b[0m\u001b[0;34m)\u001b[0m\u001b[0;34m\u001b[0m\u001b[0;34m\u001b[0m\u001b[0m\n\u001b[0m",
            "\u001b[0;31mNameError\u001b[0m: name 'pessoa' is not defined"
          ]
        }
      ]
    },
    {
      "cell_type": "code",
      "source": [
        "#popitem() : remove o último elemento da lista\n",
        "\n",
        "pessoa.popitem()\n",
        "\n",
        "print(pessoa)\n"
      ],
      "metadata": {
        "colab": {
          "base_uri": "https://localhost:8080/",
          "height": 245
        },
        "id": "JD0_BiADVrwg",
        "outputId": "5b858fc4-8431-4a68-e0ac-9238a19367e6"
      },
      "execution_count": null,
      "outputs": [
        {
          "output_type": "error",
          "ename": "KeyError",
          "evalue": "ignored",
          "traceback": [
            "\u001b[0;31m---------------------------------------------------------------------------\u001b[0m",
            "\u001b[0;31mKeyError\u001b[0m                                  Traceback (most recent call last)",
            "\u001b[0;32m<ipython-input-27-951e927756bd>\u001b[0m in \u001b[0;36m<cell line: 3>\u001b[0;34m()\u001b[0m\n\u001b[1;32m      1\u001b[0m \u001b[0;31m#popitem() : remove o último elemento da lista\u001b[0m\u001b[0;34m\u001b[0m\u001b[0;34m\u001b[0m\u001b[0m\n\u001b[1;32m      2\u001b[0m \u001b[0;34m\u001b[0m\u001b[0m\n\u001b[0;32m----> 3\u001b[0;31m \u001b[0mpessoa\u001b[0m\u001b[0;34m.\u001b[0m\u001b[0mpopitem\u001b[0m\u001b[0;34m(\u001b[0m\u001b[0;34m)\u001b[0m\u001b[0;34m\u001b[0m\u001b[0;34m\u001b[0m\u001b[0m\n\u001b[0m\u001b[1;32m      4\u001b[0m \u001b[0;34m\u001b[0m\u001b[0m\n\u001b[1;32m      5\u001b[0m \u001b[0mprint\u001b[0m\u001b[0;34m(\u001b[0m\u001b[0mpessoa\u001b[0m\u001b[0;34m)\u001b[0m\u001b[0;34m\u001b[0m\u001b[0;34m\u001b[0m\u001b[0m\n",
            "\u001b[0;31mKeyError\u001b[0m: 'popitem(): dictionary is empty'"
          ]
        }
      ]
    },
    {
      "cell_type": "code",
      "source": [
        "# items()\n",
        "print(pessoa.items)\n",
        "\n",
        "dict_items([('peso',60)])\n"
      ],
      "metadata": {
        "colab": {
          "base_uri": "https://localhost:8080/",
          "height": 227
        },
        "id": "jKg9QjAiV0kg",
        "outputId": "26ca0046-59af-4330-ebc0-1bb32effefdb"
      },
      "execution_count": null,
      "outputs": [
        {
          "output_type": "stream",
          "name": "stdout",
          "text": [
            "<built-in method items of dict object at 0x7ae46871b640>\n"
          ]
        },
        {
          "output_type": "error",
          "ename": "NameError",
          "evalue": "ignored",
          "traceback": [
            "\u001b[0;31m---------------------------------------------------------------------------\u001b[0m",
            "\u001b[0;31mNameError\u001b[0m                                 Traceback (most recent call last)",
            "\u001b[0;32m<ipython-input-9-f937bbc149c7>\u001b[0m in \u001b[0;36m<cell line: 4>\u001b[0;34m()\u001b[0m\n\u001b[1;32m      2\u001b[0m \u001b[0mprint\u001b[0m\u001b[0;34m(\u001b[0m\u001b[0mpessoa\u001b[0m\u001b[0;34m.\u001b[0m\u001b[0mitems\u001b[0m\u001b[0;34m)\u001b[0m\u001b[0;34m\u001b[0m\u001b[0;34m\u001b[0m\u001b[0m\n\u001b[1;32m      3\u001b[0m \u001b[0;34m\u001b[0m\u001b[0m\n\u001b[0;32m----> 4\u001b[0;31m \u001b[0mdict_items\u001b[0m\u001b[0;34m(\u001b[0m\u001b[0;34m[\u001b[0m\u001b[0;34m(\u001b[0m\u001b[0;34m'peso'\u001b[0m\u001b[0;34m,\u001b[0m\u001b[0;36m60\u001b[0m\u001b[0;34m)\u001b[0m\u001b[0;34m]\u001b[0m\u001b[0;34m)\u001b[0m\u001b[0;34m\u001b[0m\u001b[0;34m\u001b[0m\u001b[0m\n\u001b[0m",
            "\u001b[0;31mNameError\u001b[0m: name 'dict_items' is not defined"
          ]
        }
      ]
    },
    {
      "cell_type": "markdown",
      "source": [
        "**Aula 09 - Estrutura de Repetição - For**\n",
        "\n",
        "for i in range(5)\n",
        "\n"
      ],
      "metadata": {
        "id": "GGk41HtSCTd4"
      }
    },
    {
      "cell_type": "code",
      "source": [
        "mensagem = 'Bem-vindo à Sirius'"
      ],
      "metadata": {
        "id": "_jm1jsVWWEY9"
      },
      "execution_count": null,
      "outputs": []
    },
    {
      "cell_type": "code",
      "source": [
        "print(mensagem, mensagem, mensagem, mensagem, mensagem)"
      ],
      "metadata": {
        "colab": {
          "base_uri": "https://localhost:8080/"
        },
        "id": "q0ETfoZYCyMH",
        "outputId": "df42e8d3-fc6b-467b-8788-86fbd0fd723f"
      },
      "execution_count": null,
      "outputs": [
        {
          "output_type": "stream",
          "name": "stdout",
          "text": [
            "Bem-vindo à Sirius Bem-vindo à Sirius Bem-vindo à Sirius Bem-vindo à Sirius Bem-vindo à Sirius\n"
          ]
        }
      ]
    },
    {
      "cell_type": "code",
      "source": [
        "print (mensagem)\n",
        "print (mensagem)\n",
        "print (mensagem)\n",
        "print (mensagem)\n",
        "print (mensagem)"
      ],
      "metadata": {
        "colab": {
          "base_uri": "https://localhost:8080/"
        },
        "id": "LWbvBoDDC-du",
        "outputId": "3a68f2f4-ec78-4c53-dc98-21c132c323fb"
      },
      "execution_count": null,
      "outputs": [
        {
          "output_type": "stream",
          "name": "stdout",
          "text": [
            "Bem-vindo à Sirius\n",
            "Bem-vindo à Sirius\n",
            "Bem-vindo à Sirius\n",
            "Bem-vindo à Sirius\n",
            "Bem-vindo à Sirius\n"
          ]
        }
      ]
    },
    {
      "cell_type": "code",
      "source": [
        "for i in range(5): #range é utilizado para criar uma sequencia de números\n",
        "  print(mensagem)"
      ],
      "metadata": {
        "colab": {
          "base_uri": "https://localhost:8080/"
        },
        "id": "QdWKzrjKDCAa",
        "outputId": "490fb066-50d5-4c58-d22a-ed6c0dec3457"
      },
      "execution_count": null,
      "outputs": [
        {
          "output_type": "stream",
          "name": "stdout",
          "text": [
            "Bem-vindo à Sirius\n",
            "Bem-vindo à Sirius\n",
            "Bem-vindo à Sirius\n",
            "Bem-vindo à Sirius\n",
            "Bem-vindo à Sirius\n"
          ]
        }
      ]
    },
    {
      "cell_type": "code",
      "source": [
        "range(5)"
      ],
      "metadata": {
        "colab": {
          "base_uri": "https://localhost:8080/"
        },
        "id": "7J5nhV1MDOTq",
        "outputId": "067c3488-823d-42c3-b54d-6b2c7b3da9fc"
      },
      "execution_count": null,
      "outputs": [
        {
          "output_type": "execute_result",
          "data": {
            "text/plain": [
              "range(0, 5)"
            ]
          },
          "metadata": {},
          "execution_count": 20
        }
      ]
    },
    {
      "cell_type": "code",
      "source": [
        "for i in range(5):\n",
        "  print(i)"
      ],
      "metadata": {
        "colab": {
          "base_uri": "https://localhost:8080/"
        },
        "id": "rUTD31MuDccY",
        "outputId": "306df1e4-e3fa-4f32-9939-207613f404a4"
      },
      "execution_count": null,
      "outputs": [
        {
          "output_type": "stream",
          "name": "stdout",
          "text": [
            "0\n",
            "1\n",
            "2\n",
            "3\n",
            "4\n"
          ]
        }
      ]
    },
    {
      "cell_type": "code",
      "source": [
        "#range(inicio, final, passo)"
      ],
      "metadata": {
        "id": "B-YyAFypDiUU"
      },
      "execution_count": null,
      "outputs": []
    },
    {
      "cell_type": "code",
      "source": [
        "for i in range(1, 11):\n",
        "  print(i)"
      ],
      "metadata": {
        "colab": {
          "base_uri": "https://localhost:8080/"
        },
        "id": "kTThbPd9D5iX",
        "outputId": "654c1c07-1baa-48d3-971f-5e2b8e42e69b"
      },
      "execution_count": null,
      "outputs": [
        {
          "output_type": "stream",
          "name": "stdout",
          "text": [
            "1\n",
            "2\n",
            "3\n",
            "4\n",
            "5\n",
            "6\n",
            "7\n",
            "8\n",
            "9\n",
            "10\n"
          ]
        }
      ]
    },
    {
      "cell_type": "code",
      "source": [
        "for i in range(1, 11, 2):\n",
        "  print(i)"
      ],
      "metadata": {
        "colab": {
          "base_uri": "https://localhost:8080/"
        },
        "id": "yiiBpQgkEB1L",
        "outputId": "cdb7cf0b-c71a-4b65-bd76-27b74ca0d930"
      },
      "execution_count": null,
      "outputs": [
        {
          "output_type": "stream",
          "name": "stdout",
          "text": [
            "1\n",
            "3\n",
            "5\n",
            "7\n",
            "9\n"
          ]
        }
      ]
    },
    {
      "cell_type": "markdown",
      "source": [
        "Exercício 1: Escreva um programa que soma todos os números de 01 a 10."
      ],
      "metadata": {
        "id": "_W10Uud7EZK7"
      }
    },
    {
      "cell_type": "code",
      "source": [
        "soma = 1 + 2 + 3 + 4 + 5 + 6 + 7 + 8 + 9 + 10\n",
        "\n",
        "print(soma)"
      ],
      "metadata": {
        "colab": {
          "base_uri": "https://localhost:8080/"
        },
        "id": "6HJrJIC4EPKn",
        "outputId": "0dba7b25-3e5f-4817-908d-ea2cc0acbeba"
      },
      "execution_count": null,
      "outputs": [
        {
          "output_type": "stream",
          "name": "stdout",
          "text": [
            "55\n"
          ]
        }
      ]
    },
    {
      "cell_type": "code",
      "source": [
        "soma = 0\n",
        "\n",
        "for i in range(1, 11):\n",
        "  soma = soma + i\n",
        "\n",
        "#soma 1 a 11\n",
        "# i = 1\n",
        "\n",
        "# soma = 0 + 1 = 1\n",
        "\n",
        "# i = 2\n",
        "# soma = 1 + 2 = 3\n",
        "\n",
        "  print(soma)"
      ],
      "metadata": {
        "colab": {
          "base_uri": "https://localhost:8080/"
        },
        "id": "FVaESJJkElPe",
        "outputId": "7dbfd008-5cf5-4de3-dc4b-e23ea2743dbe"
      },
      "execution_count": null,
      "outputs": [
        {
          "output_type": "stream",
          "name": "stdout",
          "text": [
            "1\n",
            "3\n",
            "6\n",
            "10\n",
            "15\n",
            "21\n",
            "28\n",
            "36\n",
            "45\n",
            "55\n"
          ]
        }
      ]
    },
    {
      "cell_type": "code",
      "source": [
        "  print(soma)"
      ],
      "metadata": {
        "colab": {
          "base_uri": "https://localhost:8080/"
        },
        "id": "ZG4YxmeeFCZJ",
        "outputId": "06838b4d-eda9-4a90-83a2-9d198da67980"
      },
      "execution_count": null,
      "outputs": [
        {
          "output_type": "stream",
          "name": "stdout",
          "text": [
            "55\n"
          ]
        }
      ]
    },
    {
      "cell_type": "markdown",
      "source": [
        "Exercício: Escreva um programa que solicite ao usuário 5 números, e depois some os números."
      ],
      "metadata": {
        "id": "3YpQ79VWGfpk"
      }
    },
    {
      "cell_type": "code",
      "source": [
        "numero_1 = int(input('Digite o 1 número '))\n",
        "numero_2 = int(input('Digite o 2 número '))\n",
        "numero_3 = int(input('Digite o 3 número '))\n",
        "numero_4 = int(input('Digite o 4 número '))\n",
        "numero_5 = int(input('Digite o 5 número '))"
      ],
      "metadata": {
        "colab": {
          "base_uri": "https://localhost:8080/"
        },
        "id": "JjeM_qUuGFTn",
        "outputId": "cd799533-5053-4616-a7f3-55195803af86"
      },
      "execution_count": null,
      "outputs": [
        {
          "name": "stdout",
          "output_type": "stream",
          "text": [
            "Digite o 1 número 10\n",
            "Digite o 2 número 2\n",
            "Digite o 3 número 1\n",
            "Digite o 4 número 2\n",
            "Digite o 5 número 3\n"
          ]
        }
      ]
    },
    {
      "cell_type": "code",
      "source": [
        "soma = numero_1 + numero_2 + numero_3 + numero_4 + numero_5\n",
        "print(soma)"
      ],
      "metadata": {
        "colab": {
          "base_uri": "https://localhost:8080/"
        },
        "id": "863hUwtlG85P",
        "outputId": "8d30ee34-759f-438d-8267-61d1a6bb562c"
      },
      "execution_count": null,
      "outputs": [
        {
          "output_type": "stream",
          "name": "stdout",
          "text": [
            "18\n"
          ]
        }
      ]
    },
    {
      "cell_type": "code",
      "source": [
        "soma = 0\n",
        "for i in range (5): #quantidade de vezes que quero que o programa seja executado\n",
        "  numero = int(input('Digite um número '))\n",
        "\n",
        "  soma = soma + numero\n",
        "\n",
        "print(f'A soma é igual a {soma}')"
      ],
      "metadata": {
        "colab": {
          "base_uri": "https://localhost:8080/"
        },
        "id": "DfwovSHpHSX-",
        "outputId": "6118f0a9-0469-4129-fa3f-2cc01892ef31"
      },
      "execution_count": null,
      "outputs": [
        {
          "output_type": "stream",
          "name": "stdout",
          "text": [
            "Digite um número 1\n",
            "Digite um número 3\n",
            "Digite um número 4\n",
            "Digite um número 5\n",
            "Digite um número 6\n",
            "A soma é igual a 19\n"
          ]
        }
      ]
    },
    {
      "cell_type": "code",
      "source": [
        "lista = [1,2,3,4,5]\n",
        "\n",
        "for i in lista:\n",
        "  print(i)\n",
        "\n",
        "\n"
      ],
      "metadata": {
        "colab": {
          "base_uri": "https://localhost:8080/"
        },
        "id": "GKr9MBljIAPA",
        "outputId": "bc293586-9b44-42a5-fc81-beb10df22c95"
      },
      "execution_count": null,
      "outputs": [
        {
          "output_type": "stream",
          "name": "stdout",
          "text": [
            "1\n",
            "2\n",
            "3\n",
            "4\n",
            "5\n"
          ]
        }
      ]
    },
    {
      "cell_type": "code",
      "source": [
        "notas = {'Matemática':10,'Português': 8, 'Algoritmo': 8}"
      ],
      "metadata": {
        "id": "yRYHIbDXIeAV"
      },
      "execution_count": null,
      "outputs": []
    },
    {
      "cell_type": "code",
      "source": [
        "notas.items()"
      ],
      "metadata": {
        "colab": {
          "base_uri": "https://localhost:8080/"
        },
        "id": "Ac3mukUrIvdB",
        "outputId": "9d90fbbe-468a-44e8-ff51-cf07a457f290"
      },
      "execution_count": null,
      "outputs": [
        {
          "output_type": "execute_result",
          "data": {
            "text/plain": [
              "dict_items([('Matemática', 10), ('Português', 8), ('Algoritmo', 8)])"
            ]
          },
          "metadata": {},
          "execution_count": 15
        }
      ]
    },
    {
      "cell_type": "code",
      "source": [
        "for i in notas.items():\n",
        "  print(i)"
      ],
      "metadata": {
        "colab": {
          "base_uri": "https://localhost:8080/"
        },
        "id": "0NJ7hfWeIzaa",
        "outputId": "f58751f9-ce68-46f6-f5c3-56488615e020"
      },
      "execution_count": null,
      "outputs": [
        {
          "output_type": "stream",
          "name": "stdout",
          "text": [
            "('Matemática', 10)\n",
            "('Português', 8)\n",
            "('Algoritmo', 8)\n"
          ]
        }
      ]
    },
    {
      "cell_type": "code",
      "source": [
        "for chave, valor in notas.items():\n",
        "  print(f'Chave = {chave} e Valor = {valor}')"
      ],
      "metadata": {
        "colab": {
          "base_uri": "https://localhost:8080/"
        },
        "id": "MpJ5VTmUJJqq",
        "outputId": "b6859311-0e4a-4e30-f0ac-09bb73bb52d7"
      },
      "execution_count": null,
      "outputs": [
        {
          "output_type": "stream",
          "name": "stdout",
          "text": [
            "Chave = Matemática e Valor = 10\n",
            "Chave = Português e Valor = 8\n",
            "Chave = Algoritmo e Valor = 8\n"
          ]
        }
      ]
    },
    {
      "cell_type": "markdown",
      "source": [
        "**Aula 10 - Estrutura de Repetição - While**\n",
        "**for:** utilizado quando sabemos quantas vezes o usuário executará o programa.\n",
        "**while:** utilizado quando não sabemos quantas vezes o programa será executado."
      ],
      "metadata": {
        "id": "x83duQkzKBeC"
      }
    },
    {
      "cell_type": "code",
      "source": [
        "contador = 0\n",
        "while contador < 5:\n",
        "  print('Olá, mundo!')\n",
        "\n",
        "  contador = contador +1"
      ],
      "metadata": {
        "colab": {
          "base_uri": "https://localhost:8080/"
        },
        "id": "j8Lw3CTxJWk3",
        "outputId": "ccdc1141-2b9a-4186-a1e8-6624b5706985"
      },
      "execution_count": null,
      "outputs": [
        {
          "output_type": "stream",
          "name": "stdout",
          "text": [
            "Olá, mundo!\n",
            "Olá, mundo!\n",
            "Olá, mundo!\n",
            "Olá, mundo!\n",
            "Olá, mundo!\n"
          ]
        }
      ]
    },
    {
      "cell_type": "code",
      "source": [
        "n = 1\n",
        "soma = 0\n",
        "\n",
        "while n != 0:\n",
        "  numero = int(input('Digite um número: '))\n",
        "\n",
        "  soma = soma + numero\n",
        "\n",
        "  if numero == 0:\n",
        "    n = 0\n"
      ],
      "metadata": {
        "colab": {
          "base_uri": "https://localhost:8080/"
        },
        "id": "fAD5dkk-Kh2u",
        "outputId": "d6163d7a-d58e-4c35-938a-d70599142e8a"
      },
      "execution_count": null,
      "outputs": [
        {
          "name": "stdout",
          "output_type": "stream",
          "text": [
            "Digite um número: 10\n",
            "Digite um número: 7\n",
            "Digite um número: 0\n"
          ]
        }
      ]
    },
    {
      "cell_type": "code",
      "source": [
        "soma = 0\n",
        "lista = []\n",
        "\n",
        "while True:\n",
        "  numero = int(input('Digite um número: '))\n",
        "\n",
        "  lista.append(numero)\n",
        "\n",
        "  soma = soma + numero\n",
        "\n",
        "  if numero == 0:\n",
        "    break"
      ],
      "metadata": {
        "colab": {
          "base_uri": "https://localhost:8080/"
        },
        "id": "5keLG_WuMHIL",
        "outputId": "1ecf795b-93f2-4e0f-c208-ae1d33805740"
      },
      "execution_count": null,
      "outputs": [
        {
          "name": "stdout",
          "output_type": "stream",
          "text": [
            "Digite um número: 10\n",
            "Digite um número: 20\n",
            "Digite um número: 30\n",
            "Digite um número: 0\n"
          ]
        }
      ]
    },
    {
      "cell_type": "code",
      "source": [
        "print(lista)"
      ],
      "metadata": {
        "colab": {
          "base_uri": "https://localhost:8080/"
        },
        "id": "_aYhpFYjNljL",
        "outputId": "7435dc37-aefa-4781-966b-597a37db038a"
      },
      "execution_count": null,
      "outputs": [
        {
          "output_type": "stream",
          "name": "stdout",
          "text": [
            "[10, 20, 30, 0]\n"
          ]
        }
      ]
    },
    {
      "cell_type": "markdown",
      "source": [
        "Escreva um programa que soma todos os números 1 a 10"
      ],
      "metadata": {
        "id": "uIdpMzyyN7gt"
      }
    },
    {
      "cell_type": "code",
      "source": [
        "n = 1\n",
        "soma = 0\n",
        "\n",
        "while n <= 10:\n",
        "  soma = soma + n\n",
        "\n",
        "  n = n + 1"
      ],
      "metadata": {
        "id": "Fc7rN1vfN5he"
      },
      "execution_count": null,
      "outputs": []
    },
    {
      "cell_type": "code",
      "source": [
        "print(soma)"
      ],
      "metadata": {
        "colab": {
          "base_uri": "https://localhost:8080/"
        },
        "id": "qF4yb_W9OVCK",
        "outputId": "0dab3578-3f50-49f6-ab2f-276bf66688b0"
      },
      "execution_count": null,
      "outputs": [
        {
          "output_type": "stream",
          "name": "stdout",
          "text": [
            "55\n"
          ]
        }
      ]
    },
    {
      "cell_type": "markdown",
      "source": [
        "Escreva um programa que solicita ao usuário 5 numeros, depois executa a soma."
      ],
      "metadata": {
        "id": "9LOijcbIOjt0"
      }
    },
    {
      "cell_type": "code",
      "source": [
        "n = 1\n",
        "soma = 0\n",
        "\n",
        "while n <= 10:\n",
        "\n",
        "  numero = int(input('Digite um número: '))\n",
        "  soma = soma + n\n",
        "\n",
        "  n = n + 1"
      ],
      "metadata": {
        "colab": {
          "base_uri": "https://localhost:8080/"
        },
        "id": "wtLX-eTFOeT1",
        "outputId": "87b55799-6b2d-4886-c47a-f562871e769f"
      },
      "execution_count": null,
      "outputs": [
        {
          "name": "stdout",
          "output_type": "stream",
          "text": [
            "Digite um número: 10\n",
            "Digite um número: 2\n",
            "Digite um número: 3\n",
            "Digite um número: 4\n",
            "Digite um número: 5\n",
            "Digite um número: 0\n",
            "Digite um número: 1\n",
            "Digite um número: 3\n",
            "Digite um número: 4\n",
            "Digite um número: 5\n"
          ]
        }
      ]
    },
    {
      "cell_type": "code",
      "source": [
        "print(f'A soma é igual a {soma}')"
      ],
      "metadata": {
        "colab": {
          "base_uri": "https://localhost:8080/"
        },
        "id": "wQW3GieBO1pu",
        "outputId": "31be0f31-e2c0-4010-e706-8c687243f187"
      },
      "execution_count": null,
      "outputs": [
        {
          "output_type": "stream",
          "name": "stdout",
          "text": [
            "A soma é igual a 55\n"
          ]
        }
      ]
    },
    {
      "cell_type": "markdown",
      "source": [
        "**Aula 11 - Funções**\n",
        "Funções são blocos de códigos que executam funcionalidades específicas.\n",
        "\n",
        "Normalmente são utilizadas para evitar que determinada parte do seu código seja escrita varias vezes."
      ],
      "metadata": {
        "id": "euMZBJ9Glbw8"
      }
    },
    {
      "cell_type": "code",
      "source": [
        "def funcao():\n",
        "  print('Olá mundo')"
      ],
      "metadata": {
        "id": "bdnAW3IxO99y"
      },
      "execution_count": null,
      "outputs": []
    },
    {
      "cell_type": "code",
      "source": [
        "funcao()"
      ],
      "metadata": {
        "colab": {
          "base_uri": "https://localhost:8080/"
        },
        "id": "pv8PhP0Olyb3",
        "outputId": "42f09b13-8d59-4170-b16f-70984b466c40"
      },
      "execution_count": null,
      "outputs": [
        {
          "output_type": "stream",
          "name": "stdout",
          "text": [
            "Olá mundo\n"
          ]
        }
      ]
    },
    {
      "cell_type": "code",
      "source": [
        "input('Digite um número')"
      ],
      "metadata": {
        "colab": {
          "base_uri": "https://localhost:8080/",
          "height": 53
        },
        "id": "BE3VsFdZl3ng",
        "outputId": "3f065caf-8011-4b2a-a556-13ce80f4b297"
      },
      "execution_count": null,
      "outputs": [
        {
          "name": "stdout",
          "output_type": "stream",
          "text": [
            "Digite um número1\n"
          ]
        },
        {
          "output_type": "execute_result",
          "data": {
            "text/plain": [
              "'1'"
            ],
            "application/vnd.google.colaboratory.intrinsic+json": {
              "type": "string"
            }
          },
          "metadata": {},
          "execution_count": 4
        }
      ]
    },
    {
      "cell_type": "code",
      "source": [
        "min(4,2,3)"
      ],
      "metadata": {
        "colab": {
          "base_uri": "https://localhost:8080/"
        },
        "id": "vP_rdHPImPrl",
        "outputId": "36bc0e5d-0352-4e85-c87a-dc398fcfbacd"
      },
      "execution_count": null,
      "outputs": [
        {
          "output_type": "execute_result",
          "data": {
            "text/plain": [
              "2"
            ]
          },
          "metadata": {},
          "execution_count": 5
        }
      ]
    },
    {
      "cell_type": "code",
      "source": [
        "max(4,2)"
      ],
      "metadata": {
        "colab": {
          "base_uri": "https://localhost:8080/"
        },
        "id": "PuAg2zvpmZcD",
        "outputId": "e9bc7901-3241-429e-e32d-a955b278dfdc"
      },
      "execution_count": null,
      "outputs": [
        {
          "output_type": "execute_result",
          "data": {
            "text/plain": [
              "4"
            ]
          },
          "metadata": {},
          "execution_count": 6
        }
      ]
    },
    {
      "cell_type": "code",
      "source": [
        "max([4,2,1])"
      ],
      "metadata": {
        "colab": {
          "base_uri": "https://localhost:8080/"
        },
        "id": "a4EeHWjMmek_",
        "outputId": "35071634-24c4-4040-daa7-ea2839533562"
      },
      "execution_count": null,
      "outputs": [
        {
          "output_type": "execute_result",
          "data": {
            "text/plain": [
              "4"
            ]
          },
          "metadata": {},
          "execution_count": 7
        }
      ]
    },
    {
      "cell_type": "code",
      "source": [
        "sum([3,2,1])"
      ],
      "metadata": {
        "colab": {
          "base_uri": "https://localhost:8080/"
        },
        "id": "kIG6wIM5mhfS",
        "outputId": "601469e4-64ff-45de-acc6-841aa72c714d"
      },
      "execution_count": null,
      "outputs": [
        {
          "output_type": "execute_result",
          "data": {
            "text/plain": [
              "6"
            ]
          },
          "metadata": {},
          "execution_count": 9
        }
      ]
    },
    {
      "cell_type": "code",
      "source": [
        "def soma():\n",
        "  somar_numeros = 10 + 2\n",
        "\n",
        "  print(f'A soma é igual a {somar_numeros}')"
      ],
      "metadata": {
        "id": "8c40yGqimmCK"
      },
      "execution_count": null,
      "outputs": []
    },
    {
      "cell_type": "code",
      "source": [
        "soma()"
      ],
      "metadata": {
        "colab": {
          "base_uri": "https://localhost:8080/"
        },
        "id": "ToPPVllpmpRr",
        "outputId": "44931898-8372-44ca-d6ff-a8a058cc22da"
      },
      "execution_count": null,
      "outputs": [
        {
          "output_type": "stream",
          "name": "stdout",
          "text": [
            "A soma é igual a 12\n"
          ]
        }
      ]
    },
    {
      "cell_type": "code",
      "source": [
        "def soma_II(a, b):\n",
        "\n",
        "  somar_numeros = a + b\n",
        "\n",
        "  print(f'A soma é igua a {somar_numeros}')"
      ],
      "metadata": {
        "id": "kxeKqPVam7mI"
      },
      "execution_count": null,
      "outputs": []
    },
    {
      "cell_type": "code",
      "source": [
        "soma_II(2, 8)"
      ],
      "metadata": {
        "colab": {
          "base_uri": "https://localhost:8080/"
        },
        "id": "m5DaumyCnQsD",
        "outputId": "03db6136-fae8-44c3-8c45-6bd34d3abe6d"
      },
      "execution_count": null,
      "outputs": [
        {
          "output_type": "stream",
          "name": "stdout",
          "text": [
            "A soma é igua a 10\n"
          ]
        }
      ]
    },
    {
      "cell_type": "code",
      "source": [
        "soma_II(10, 20)"
      ],
      "metadata": {
        "colab": {
          "base_uri": "https://localhost:8080/"
        },
        "id": "K8RilTJBnSK-",
        "outputId": "1bcce4a6-31cb-4462-f099-2333a4bc1f53"
      },
      "execution_count": null,
      "outputs": [
        {
          "output_type": "stream",
          "name": "stdout",
          "text": [
            "A soma é igua a 30\n"
          ]
        }
      ]
    },
    {
      "cell_type": "code",
      "source": [
        "def soma_III(a, b):\n",
        "\n",
        "  soma = a + b\n",
        "\n",
        "  return soma\n"
      ],
      "metadata": {
        "id": "Q-puX8hWnu7C"
      },
      "execution_count": null,
      "outputs": []
    },
    {
      "cell_type": "code",
      "source": [
        "soma_III(30,40)"
      ],
      "metadata": {
        "colab": {
          "base_uri": "https://localhost:8080/"
        },
        "id": "QAiWtvn0oDyN",
        "outputId": "20b0b8d3-1634-49ae-fb56-1d818f9edd88"
      },
      "execution_count": null,
      "outputs": [
        {
          "output_type": "execute_result",
          "data": {
            "text/plain": [
              "70"
            ]
          },
          "metadata": {},
          "execution_count": 22
        }
      ]
    },
    {
      "cell_type": "code",
      "source": [
        "somar = soma_III(30, 40)"
      ],
      "metadata": {
        "id": "AKnec8yfoH07"
      },
      "execution_count": null,
      "outputs": []
    },
    {
      "cell_type": "code",
      "source": [
        "print(f'A soma é igua a {somar}')"
      ],
      "metadata": {
        "colab": {
          "base_uri": "https://localhost:8080/"
        },
        "id": "fGd2raLgoXqV",
        "outputId": "f9c20b86-4f22-4b18-bcaa-a4744874b11a"
      },
      "execution_count": null,
      "outputs": [
        {
          "output_type": "stream",
          "name": "stdout",
          "text": [
            "A soma é igua a 70\n"
          ]
        }
      ]
    },
    {
      "cell_type": "code",
      "source": [
        "def soma_IV(a, b):\n",
        "\n",
        "  soma = a + b\n",
        "\n",
        "  media = (a + b)/2\n",
        "\n",
        "  return soma, media\n"
      ],
      "metadata": {
        "id": "noNBEQProeXC"
      },
      "execution_count": null,
      "outputs": []
    },
    {
      "cell_type": "code",
      "source": [
        "somar = soma_IV(100, 20)"
      ],
      "metadata": {
        "id": "-3uUUBnJo1vu"
      },
      "execution_count": null,
      "outputs": []
    },
    {
      "cell_type": "code",
      "source": [
        "print(f'A soma é igual a {somar}')"
      ],
      "metadata": {
        "colab": {
          "base_uri": "https://localhost:8080/"
        },
        "id": "8-88K2pho5SD",
        "outputId": "ee477fd2-98b9-4c82-aa79-ec706f943c32"
      },
      "execution_count": null,
      "outputs": [
        {
          "output_type": "stream",
          "name": "stdout",
          "text": [
            "A soma é igual a (120, 60.0)\n"
          ]
        }
      ]
    },
    {
      "cell_type": "code",
      "source": [
        "def entrada_dados():\n",
        "  numero_1 = int(input('Digite um número '))\n",
        "  numero_2 = int(input('Digite outro número '))\n",
        "\n",
        "  soma = soma_III(numero_1, numero_2)\n",
        "\n",
        "  print(f'A soma é igual a {soma}')"
      ],
      "metadata": {
        "id": "koGL75S8o7Fc"
      },
      "execution_count": null,
      "outputs": []
    },
    {
      "cell_type": "code",
      "source": [
        "entrada_dados()"
      ],
      "metadata": {
        "colab": {
          "base_uri": "https://localhost:8080/"
        },
        "id": "lIJRKh82p75z",
        "outputId": "fc4b9555-ac73-4225-b67b-36d249d7a173"
      },
      "execution_count": null,
      "outputs": [
        {
          "output_type": "stream",
          "name": "stdout",
          "text": [
            "Digite um número 2\n",
            "Digite outro número 10\n",
            "A soma é igual a 12\n"
          ]
        }
      ]
    },
    {
      "cell_type": "code",
      "source": [],
      "metadata": {
        "id": "TmoqqXuUqdQl"
      },
      "execution_count": null,
      "outputs": []
    }
  ]
}